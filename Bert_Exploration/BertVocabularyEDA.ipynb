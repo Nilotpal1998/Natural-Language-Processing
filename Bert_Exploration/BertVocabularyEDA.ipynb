{
  "nbformat": 4,
  "nbformat_minor": 0,
  "metadata": {
    "colab": {
      "name": "BertVocabularyExploration.ipynb",
      "provenance": [],
      "authorship_tag": "ABX9TyMrED8soVeB5L/PbeUiZ2xd",
      "include_colab_link": true
    },
    "kernelspec": {
      "name": "python3",
      "display_name": "Python 3"
    },
    "language_info": {
      "name": "python"
    }
  },
  "cells": [
    {
      "cell_type": "markdown",
      "metadata": {
        "id": "view-in-github",
        "colab_type": "text"
      },
      "source": [
        "<a href=\"https://colab.research.google.com/github/Nilotpal1998/Natural-Language-Processing/blob/main/Bert_Exploration/BertVocabularyEDA.ipynb\" target=\"_parent\"><img src=\"https://colab.research.google.com/assets/colab-badge.svg\" alt=\"Open In Colab\"/></a>"
      ]
    },
    {
      "cell_type": "markdown",
      "metadata": {
        "id": "iA3YMw9SG_7q"
      },
      "source": [
        "# **Exploring The Bert Vocabulary**"
      ]
    },
    {
      "cell_type": "markdown",
      "metadata": {
        "id": "LJry4U2OGdlP"
      },
      "source": [
        "## **Load The Model** "
      ]
    },
    {
      "cell_type": "markdown",
      "metadata": {
        "id": "V88ueBI-GtjI"
      },
      "source": [
        "### **Installing the Hugging Face Transformer**"
      ]
    },
    {
      "cell_type": "code",
      "metadata": {
        "colab": {
          "base_uri": "https://localhost:8080/"
        },
        "id": "PzBCLiP8GQpn",
        "outputId": "87231c47-5bd5-4bec-894b-257264670c50"
      },
      "source": [
        "! pip install pytorch-pretrained-bert"
      ],
      "execution_count": null,
      "outputs": [
        {
          "output_type": "stream",
          "name": "stdout",
          "text": [
            "Collecting pytorch-pretrained-bert\n",
            "  Downloading pytorch_pretrained_bert-0.6.2-py3-none-any.whl (123 kB)\n",
            "\u001b[K     |████████████████████████████████| 123 kB 8.6 MB/s \n",
            "\u001b[?25hCollecting boto3\n",
            "  Downloading boto3-1.18.41-py3-none-any.whl (131 kB)\n",
            "\u001b[K     |████████████████████████████████| 131 kB 58.5 MB/s \n",
            "\u001b[?25hRequirement already satisfied: tqdm in /usr/local/lib/python3.7/dist-packages (from pytorch-pretrained-bert) (4.62.0)\n",
            "Requirement already satisfied: numpy in /usr/local/lib/python3.7/dist-packages (from pytorch-pretrained-bert) (1.19.5)\n",
            "Requirement already satisfied: requests in /usr/local/lib/python3.7/dist-packages (from pytorch-pretrained-bert) (2.23.0)\n",
            "Requirement already satisfied: torch>=0.4.1 in /usr/local/lib/python3.7/dist-packages (from pytorch-pretrained-bert) (1.9.0+cu102)\n",
            "Requirement already satisfied: regex in /usr/local/lib/python3.7/dist-packages (from pytorch-pretrained-bert) (2019.12.20)\n",
            "Requirement already satisfied: typing-extensions in /usr/local/lib/python3.7/dist-packages (from torch>=0.4.1->pytorch-pretrained-bert) (3.7.4.3)\n",
            "Collecting s3transfer<0.6.0,>=0.5.0\n",
            "  Downloading s3transfer-0.5.0-py3-none-any.whl (79 kB)\n",
            "\u001b[K     |████████████████████████████████| 79 kB 10.1 MB/s \n",
            "\u001b[?25hCollecting jmespath<1.0.0,>=0.7.1\n",
            "  Downloading jmespath-0.10.0-py2.py3-none-any.whl (24 kB)\n",
            "Collecting botocore<1.22.0,>=1.21.41\n",
            "  Downloading botocore-1.21.41-py3-none-any.whl (7.9 MB)\n",
            "\u001b[K     |████████████████████████████████| 7.9 MB 64.6 MB/s \n",
            "\u001b[?25hRequirement already satisfied: python-dateutil<3.0.0,>=2.1 in /usr/local/lib/python3.7/dist-packages (from botocore<1.22.0,>=1.21.41->boto3->pytorch-pretrained-bert) (2.8.2)\n",
            "Collecting urllib3<1.27,>=1.25.4\n",
            "  Downloading urllib3-1.26.6-py2.py3-none-any.whl (138 kB)\n",
            "\u001b[K     |████████████████████████████████| 138 kB 54.6 MB/s \n",
            "\u001b[?25hRequirement already satisfied: six>=1.5 in /usr/local/lib/python3.7/dist-packages (from python-dateutil<3.0.0,>=2.1->botocore<1.22.0,>=1.21.41->boto3->pytorch-pretrained-bert) (1.15.0)\n",
            "Requirement already satisfied: chardet<4,>=3.0.2 in /usr/local/lib/python3.7/dist-packages (from requests->pytorch-pretrained-bert) (3.0.4)\n",
            "Requirement already satisfied: certifi>=2017.4.17 in /usr/local/lib/python3.7/dist-packages (from requests->pytorch-pretrained-bert) (2021.5.30)\n",
            "Requirement already satisfied: idna<3,>=2.5 in /usr/local/lib/python3.7/dist-packages (from requests->pytorch-pretrained-bert) (2.10)\n",
            "  Downloading urllib3-1.25.11-py2.py3-none-any.whl (127 kB)\n",
            "\u001b[K     |████████████████████████████████| 127 kB 67.5 MB/s \n",
            "\u001b[?25hInstalling collected packages: urllib3, jmespath, botocore, s3transfer, boto3, pytorch-pretrained-bert\n",
            "  Attempting uninstall: urllib3\n",
            "    Found existing installation: urllib3 1.24.3\n",
            "    Uninstalling urllib3-1.24.3:\n",
            "      Successfully uninstalled urllib3-1.24.3\n",
            "\u001b[31mERROR: pip's dependency resolver does not currently take into account all the packages that are installed. This behaviour is the source of the following dependency conflicts.\n",
            "datascience 0.10.6 requires folium==0.2.1, but you have folium 0.8.3 which is incompatible.\u001b[0m\n",
            "Successfully installed boto3-1.18.41 botocore-1.21.41 jmespath-0.10.0 pytorch-pretrained-bert-0.6.2 s3transfer-0.5.0 urllib3-1.25.11\n"
          ]
        }
      ]
    },
    {
      "cell_type": "code",
      "metadata": {
        "id": "3r4QShimGZYm"
      },
      "source": [
        "import torch\n",
        "from pytorch_pretrained_bert import BertTokenizer "
      ],
      "execution_count": null,
      "outputs": []
    },
    {
      "cell_type": "markdown",
      "metadata": {
        "id": "XsKm6dTvH7NE"
      },
      "source": [
        "**Loading the pretrained model tokenizer from Bert**"
      ]
    },
    {
      "cell_type": "code",
      "metadata": {
        "colab": {
          "base_uri": "https://localhost:8080/"
        },
        "id": "nbgz6enrHgfX",
        "outputId": "f58129f6-4b26-45e8-f65f-07aba0282d64"
      },
      "source": [
        "tokenizer = BertTokenizer.from_pretrained('bert-base-uncased')"
      ],
      "execution_count": null,
      "outputs": [
        {
          "output_type": "stream",
          "name": "stderr",
          "text": [
            "100%|██████████| 231508/231508 [00:00<00:00, 949191.13B/s]\n"
          ]
        }
      ]
    },
    {
      "cell_type": "markdown",
      "metadata": {
        "id": "nukxdAfxMtSz"
      },
      "source": [
        "## **Vocabulary Inspection**"
      ]
    },
    {
      "cell_type": "markdown",
      "metadata": {
        "id": "kDg3Ow3XM1v_"
      },
      "source": [
        "### **Vocal Dump**"
      ]
    },
    {
      "cell_type": "markdown",
      "metadata": {
        "id": "SODc9J1YNBgP"
      },
      "source": [
        "Our aim is retrieve the entire list of tokens from the vocabulary dictionary and write these text files out so that we can pursue them."
      ]
    },
    {
      "cell_type": "code",
      "metadata": {
        "id": "-Bc0q3H1Hutm"
      },
      "source": [
        "with open(\"vocabulary.txt\",\"w\") as f:\n",
        "  for token in tokenizer.vocab.keys():\n",
        "    f.write(token+\"\\n\")"
      ],
      "execution_count": null,
      "outputs": []
    },
    {
      "cell_type": "markdown",
      "metadata": {
        "id": "pUpsegQPQUKH"
      },
      "source": [
        "We are seeing that there about 999 tokens which are unused and focusing on them we are infering that **Unused tokens are helpful if you want to introduce specific words to your fine-tuning or further pre-training procedure; they allow you to treat words that are relevant only in your context just like you want, and avoid subword splitting that would occur with the original vocabulary of BERT.**\n",
        "Most of them are of the form :-\n",
        "- [unused100]"
      ]
    },
    {
      "cell_type": "markdown",
      "metadata": {
        "id": "i7F8hxL4Q6uk"
      },
      "source": [
        "* Rows 1000-1996 appear to be a dump of individual characters. \n",
        "    * They don't appear to be sorted by frequency (e.g., the letters of the alphabet are all in sequence).\n",
        "* The first word is \"the\" at position 1997.\n",
        "    * From there, the words appear to be sorted by frequency. \n",
        "    * The top ~18 words are whole words, and then number 2016 is ##s, presumably the most common subword."
      ]
    },
    {
      "cell_type": "markdown",
      "metadata": {
        "id": "-KWxXYFjScic"
      },
      "source": [
        "### Single Charecter hashed and unhashed"
      ]
    },
    {
      "cell_type": "code",
      "metadata": {
        "id": "dgYckR9cNpIp"
      },
      "source": [
        "one_chars =[]\n",
        "hashed_one_chars=[]\n",
        "for token in tokenizer.vocab.keys():\n",
        "  if len(token)==1:\n",
        "    one_chars.append(token)\n",
        "  elif len(token)==3 and token[0:2]==\"##\":\n",
        "    hashed_one_chars.append(token)\n"
      ],
      "execution_count": null,
      "outputs": []
    },
    {
      "cell_type": "code",
      "metadata": {
        "colab": {
          "base_uri": "https://localhost:8080/"
        },
        "id": "p9f3YvMGTO09",
        "outputId": "9d10d295-e335-4680-9928-db2474361a6b"
      },
      "source": [
        "print('Number of single character tokens:', len(one_chars), '\\n')\n",
        "for i in range(0, len(one_chars), 50):\n",
        "    \n",
        "      end = min(i + 50, len(one_chars) + 1)\n",
        "    \n",
        "      print(one_chars[i:end])"
      ],
      "execution_count": null,
      "outputs": [
        {
          "output_type": "stream",
          "name": "stdout",
          "text": [
            "Number of single character tokens: 997 \n",
            "\n",
            "['!', '\"', '#', '$', '%', '&', \"'\", '(', ')', '*', '+', ',', '-', '.', '/', '0', '1', '2', '3', '4', '5', '6', '7', '8', '9', ':', ';', '<', '=', '>', '?', '@', '[', '\\\\', ']', '^', '_', '`', 'a', 'b', 'c', 'd', 'e', 'f', 'g', 'h', 'i', 'j', 'k', 'l']\n",
            "['m', 'n', 'o', 'p', 'q', 'r', 's', 't', 'u', 'v', 'w', 'x', 'y', 'z', '{', '|', '}', '~', '¡', '¢', '£', '¤', '¥', '¦', '§', '¨', '©', 'ª', '«', '¬', '®', '°', '±', '²', '³', '´', 'µ', '¶', '·', '¹', 'º', '»', '¼', '½', '¾', '¿', '×', 'ß', 'æ', 'ð']\n",
            "['÷', 'ø', 'þ', 'đ', 'ħ', 'ı', 'ł', 'ŋ', 'œ', 'ƒ', 'ɐ', 'ɑ', 'ɒ', 'ɔ', 'ɕ', 'ə', 'ɛ', 'ɡ', 'ɣ', 'ɨ', 'ɪ', 'ɫ', 'ɬ', 'ɯ', 'ɲ', 'ɴ', 'ɹ', 'ɾ', 'ʀ', 'ʁ', 'ʂ', 'ʃ', 'ʉ', 'ʊ', 'ʋ', 'ʌ', 'ʎ', 'ʐ', 'ʑ', 'ʒ', 'ʔ', 'ʰ', 'ʲ', 'ʳ', 'ʷ', 'ʸ', 'ʻ', 'ʼ', 'ʾ', 'ʿ']\n",
            "['ˈ', 'ː', 'ˡ', 'ˢ', 'ˣ', 'ˤ', 'α', 'β', 'γ', 'δ', 'ε', 'ζ', 'η', 'θ', 'ι', 'κ', 'λ', 'μ', 'ν', 'ξ', 'ο', 'π', 'ρ', 'ς', 'σ', 'τ', 'υ', 'φ', 'χ', 'ψ', 'ω', 'а', 'б', 'в', 'г', 'д', 'е', 'ж', 'з', 'и', 'к', 'л', 'м', 'н', 'о', 'п', 'р', 'с', 'т', 'у']\n",
            "['ф', 'х', 'ц', 'ч', 'ш', 'щ', 'ъ', 'ы', 'ь', 'э', 'ю', 'я', 'ђ', 'є', 'і', 'ј', 'љ', 'њ', 'ћ', 'ӏ', 'ա', 'բ', 'գ', 'դ', 'ե', 'թ', 'ի', 'լ', 'կ', 'հ', 'մ', 'յ', 'ն', 'ո', 'պ', 'ս', 'վ', 'տ', 'ր', 'ւ', 'ք', '־', 'א', 'ב', 'ג', 'ד', 'ה', 'ו', 'ז', 'ח']\n",
            "['ט', 'י', 'ך', 'כ', 'ל', 'ם', 'מ', 'ן', 'נ', 'ס', 'ע', 'ף', 'פ', 'ץ', 'צ', 'ק', 'ר', 'ש', 'ת', '،', 'ء', 'ا', 'ب', 'ة', 'ت', 'ث', 'ج', 'ح', 'خ', 'د', 'ذ', 'ر', 'ز', 'س', 'ش', 'ص', 'ض', 'ط', 'ظ', 'ع', 'غ', 'ـ', 'ف', 'ق', 'ك', 'ل', 'م', 'ن', 'ه', 'و']\n",
            "['ى', 'ي', 'ٹ', 'پ', 'چ', 'ک', 'گ', 'ں', 'ھ', 'ہ', 'ی', 'ے', 'अ', 'आ', 'उ', 'ए', 'क', 'ख', 'ग', 'च', 'ज', 'ट', 'ड', 'ण', 'त', 'थ', 'द', 'ध', 'न', 'प', 'ब', 'भ', 'म', 'य', 'र', 'ल', 'व', 'श', 'ष', 'स', 'ह', 'ा', 'ि', 'ी', 'ो', '।', '॥', 'ং', 'অ', 'আ']\n",
            "['ই', 'উ', 'এ', 'ও', 'ক', 'খ', 'গ', 'চ', 'ছ', 'জ', 'ট', 'ড', 'ণ', 'ত', 'থ', 'দ', 'ধ', 'ন', 'প', 'ব', 'ভ', 'ম', 'য', 'র', 'ল', 'শ', 'ষ', 'স', 'হ', 'া', 'ি', 'ী', 'ে', 'க', 'ச', 'ட', 'த', 'ந', 'ன', 'ப', 'ம', 'ய', 'ர', 'ல', 'ள', 'வ', 'ா', 'ி', 'ு', 'ே']\n",
            "['ை', 'ನ', 'ರ', 'ಾ', 'ක', 'ය', 'ර', 'ල', 'ව', 'ා', 'ก', 'ง', 'ต', 'ท', 'น', 'พ', 'ม', 'ย', 'ร', 'ล', 'ว', 'ส', 'อ', 'า', 'เ', '་', '།', 'ག', 'ང', 'ད', 'ན', 'པ', 'བ', 'མ', 'འ', 'ར', 'ལ', 'ས', 'မ', 'ა', 'ბ', 'გ', 'დ', 'ე', 'ვ', 'თ', 'ი', 'კ', 'ლ', 'მ']\n",
            "['ნ', 'ო', 'რ', 'ს', 'ტ', 'უ', 'ᄀ', 'ᄂ', 'ᄃ', 'ᄅ', 'ᄆ', 'ᄇ', 'ᄉ', 'ᄊ', 'ᄋ', 'ᄌ', 'ᄎ', 'ᄏ', 'ᄐ', 'ᄑ', 'ᄒ', 'ᅡ', 'ᅢ', 'ᅥ', 'ᅦ', 'ᅧ', 'ᅩ', 'ᅪ', 'ᅭ', 'ᅮ', 'ᅯ', 'ᅲ', 'ᅳ', 'ᅴ', 'ᅵ', 'ᆨ', 'ᆫ', 'ᆯ', 'ᆷ', 'ᆸ', 'ᆼ', 'ᴬ', 'ᴮ', 'ᴰ', 'ᴵ', 'ᴺ', 'ᵀ', 'ᵃ', 'ᵇ', 'ᵈ']\n",
            "['ᵉ', 'ᵍ', 'ᵏ', 'ᵐ', 'ᵒ', 'ᵖ', 'ᵗ', 'ᵘ', 'ᵢ', 'ᵣ', 'ᵤ', 'ᵥ', 'ᶜ', 'ᶠ', '‐', '‑', '‒', '–', '—', '―', '‖', '‘', '’', '‚', '“', '”', '„', '†', '‡', '•', '…', '‰', '′', '″', '›', '‿', '⁄', '⁰', 'ⁱ', '⁴', '⁵', '⁶', '⁷', '⁸', '⁹', '⁺', '⁻', 'ⁿ', '₀', '₁']\n",
            "['₂', '₃', '₄', '₅', '₆', '₇', '₈', '₉', '₊', '₍', '₎', 'ₐ', 'ₑ', 'ₒ', 'ₓ', 'ₕ', 'ₖ', 'ₗ', 'ₘ', 'ₙ', 'ₚ', 'ₛ', 'ₜ', '₤', '₩', '€', '₱', '₹', 'ℓ', '№', 'ℝ', '™', '⅓', '⅔', '←', '↑', '→', '↓', '↔', '↦', '⇄', '⇌', '⇒', '∂', '∅', '∆', '∇', '∈', '−', '∗']\n",
            "['∘', '√', '∞', '∧', '∨', '∩', '∪', '≈', '≡', '≤', '≥', '⊂', '⊆', '⊕', '⊗', '⋅', '─', '│', '■', '▪', '●', '★', '☆', '☉', '♠', '♣', '♥', '♦', '♭', '♯', '⟨', '⟩', 'ⱼ', '⺩', '⺼', '⽥', '、', '。', '〈', '〉', '《', '》', '「', '」', '『', '』', '〜', 'あ', 'い', 'う']\n",
            "['え', 'お', 'か', 'き', 'く', 'け', 'こ', 'さ', 'し', 'す', 'せ', 'そ', 'た', 'ち', 'っ', 'つ', 'て', 'と', 'な', 'に', 'ぬ', 'ね', 'の', 'は', 'ひ', 'ふ', 'へ', 'ほ', 'ま', 'み', 'む', 'め', 'も', 'や', 'ゆ', 'よ', 'ら', 'り', 'る', 'れ', 'ろ', 'を', 'ん', 'ァ', 'ア', 'ィ', 'イ', 'ウ', 'ェ', 'エ']\n",
            "['オ', 'カ', 'キ', 'ク', 'ケ', 'コ', 'サ', 'シ', 'ス', 'セ', 'タ', 'チ', 'ッ', 'ツ', 'テ', 'ト', 'ナ', 'ニ', 'ノ', 'ハ', 'ヒ', 'フ', 'ヘ', 'ホ', 'マ', 'ミ', 'ム', 'メ', 'モ', 'ャ', 'ュ', 'ョ', 'ラ', 'リ', 'ル', 'レ', 'ロ', 'ワ', 'ン', '・', 'ー', '一', '三', '上', '下', '不', '世', '中', '主', '久']\n",
            "['之', '也', '事', '二', '五', '井', '京', '人', '亻', '仁', '介', '代', '仮', '伊', '会', '佐', '侍', '保', '信', '健', '元', '光', '八', '公', '内', '出', '分', '前', '劉', '力', '加', '勝', '北', '区', '十', '千', '南', '博', '原', '口', '古', '史', '司', '合', '吉', '同', '名', '和', '囗', '四']\n",
            "['国', '國', '土', '地', '坂', '城', '堂', '場', '士', '夏', '外', '大', '天', '太', '夫', '奈', '女', '子', '学', '宀', '宇', '安', '宗', '定', '宣', '宮', '家', '宿', '寺', '將', '小', '尚', '山', '岡', '島', '崎', '川', '州', '巿', '帝', '平', '年', '幸', '广', '弘', '張', '彳', '後', '御', '德']\n",
            "['心', '忄', '志', '忠', '愛', '成', '我', '戦', '戸', '手', '扌', '政', '文', '新', '方', '日', '明', '星', '春', '昭', '智', '曲', '書', '月', '有', '朝', '木', '本', '李', '村', '東', '松', '林', '森', '楊', '樹', '橋', '歌', '止', '正', '武', '比', '氏', '民', '水', '氵', '氷', '永', '江', '沢']\n",
            "['河', '治', '法', '海', '清', '漢', '瀬', '火', '版', '犬', '王', '生', '田', '男', '疒', '発', '白', '的', '皇', '目', '相', '省', '真', '石', '示', '社', '神', '福', '禾', '秀', '秋', '空', '立', '章', '竹', '糹', '美', '義', '耳', '良', '艹', '花', '英', '華', '葉', '藤', '行', '街', '西', '見']\n",
            "['訁', '語', '谷', '貝', '貴', '車', '軍', '辶', '道', '郎', '郡', '部', '都', '里', '野', '金', '鈴', '镇', '長', '門', '間', '阝', '阿', '陳', '陽', '雄', '青', '面', '風', '食', '香', '馬', '高', '龍', '龸', 'ﬁ', 'ﬂ', '！', '（', '）', '，', '－', '．', '／', '：', '？', '～']\n"
          ]
        }
      ]
    },
    {
      "cell_type": "code",
      "metadata": {
        "colab": {
          "base_uri": "https://localhost:8080/"
        },
        "id": "Shkj0S3NUA9G",
        "outputId": "5b1ca6dd-4816-4c00-d524-1b229975c87d"
      },
      "source": [
        "print('Number of single character tokens:', len(hashed_one_chars), '\\n')\n",
        "for i in range(0, len(hashed_one_chars), 50):\n",
        "    \n",
        "      end = min(i + 50, len(hashed_one_chars) + 1)\n",
        "    \n",
        "      print(hashed_one_chars[i:end])"
      ],
      "execution_count": null,
      "outputs": [
        {
          "output_type": "stream",
          "name": "stdout",
          "text": [
            "Number of single character tokens: 997 \n",
            "\n",
            "['##s', '##a', '##e', '##i', '##n', '##o', '##d', '##r', '##y', '##t', '##l', '##m', '##u', '##h', '##k', '##c', '##g', '##p', '##2', '##z', '##1', '##b', '##3', '##f', '##4', '##6', '##7', '##x', '##v', '##8', '##5', '##9', '##0', '##w', '##j', '##q', '##°', '##₂', '##а', '##и', '##²', '##₃', '##ı', '##₁', '##⁺', '##½', '##о', '##ه', '##ي', '##α']\n",
            "['##е', '##د', '##ن', '##ν', '##ø', '##р', '##₄', '##₀', '##ر', '##я', '##³', '##ι', '##ł', '##н', '##ᵢ', '##ₙ', '##ß', '##ة', '##ς', '##م', '##−', '##т', '##ː', '##ل', '##ь', '##к', '##♭', '##η', '##ی', '##в', '##ا', '##×', '##¹', '##ы', '##ה', '##ɛ', '##л', '##!', '##\"', '###', '##$', '##%', '##&', \"##'\", '##(', '##)', '##*', '##+', '##,', '##-']\n",
            "['##.', '##/', '##:', '##;', '##<', '##=', '##>', '##?', '##@', '##[', '##\\\\', '##]', '##^', '##_', '##`', '##{', '##|', '##}', '##~', '##¡', '##¢', '##£', '##¤', '##¥', '##¦', '##§', '##¨', '##©', '##ª', '##«', '##¬', '##®', '##±', '##´', '##µ', '##¶', '##·', '##º', '##»', '##¼', '##¾', '##¿', '##æ', '##ð', '##÷', '##þ', '##đ', '##ħ', '##ŋ', '##œ']\n",
            "['##ƒ', '##ɐ', '##ɑ', '##ɒ', '##ɔ', '##ɕ', '##ə', '##ɡ', '##ɣ', '##ɨ', '##ɪ', '##ɫ', '##ɬ', '##ɯ', '##ɲ', '##ɴ', '##ɹ', '##ɾ', '##ʀ', '##ʁ', '##ʂ', '##ʃ', '##ʉ', '##ʊ', '##ʋ', '##ʌ', '##ʎ', '##ʐ', '##ʑ', '##ʒ', '##ʔ', '##ʰ', '##ʲ', '##ʳ', '##ʷ', '##ʸ', '##ʻ', '##ʼ', '##ʾ', '##ʿ', '##ˈ', '##ˡ', '##ˢ', '##ˣ', '##ˤ', '##β', '##γ', '##δ', '##ε', '##ζ']\n",
            "['##θ', '##κ', '##λ', '##μ', '##ξ', '##ο', '##π', '##ρ', '##σ', '##τ', '##υ', '##φ', '##χ', '##ψ', '##ω', '##б', '##г', '##д', '##ж', '##з', '##м', '##п', '##с', '##у', '##ф', '##х', '##ц', '##ч', '##ш', '##щ', '##ъ', '##э', '##ю', '##ђ', '##є', '##і', '##ј', '##љ', '##њ', '##ћ', '##ӏ', '##ա', '##բ', '##գ', '##դ', '##ե', '##թ', '##ի', '##լ', '##կ']\n",
            "['##հ', '##մ', '##յ', '##ն', '##ո', '##պ', '##ս', '##վ', '##տ', '##ր', '##ւ', '##ք', '##־', '##א', '##ב', '##ג', '##ד', '##ו', '##ז', '##ח', '##ט', '##י', '##ך', '##כ', '##ל', '##ם', '##מ', '##ן', '##נ', '##ס', '##ע', '##ף', '##פ', '##ץ', '##צ', '##ק', '##ר', '##ש', '##ת', '##،', '##ء', '##ب', '##ت', '##ث', '##ج', '##ح', '##خ', '##ذ', '##ز', '##س']\n",
            "['##ش', '##ص', '##ض', '##ط', '##ظ', '##ع', '##غ', '##ـ', '##ف', '##ق', '##ك', '##و', '##ى', '##ٹ', '##پ', '##چ', '##ک', '##گ', '##ں', '##ھ', '##ہ', '##ے', '##अ', '##आ', '##उ', '##ए', '##क', '##ख', '##ग', '##च', '##ज', '##ट', '##ड', '##ण', '##त', '##थ', '##द', '##ध', '##न', '##प', '##ब', '##भ', '##म', '##य', '##र', '##ल', '##व', '##श', '##ष', '##स']\n",
            "['##ह', '##ा', '##ि', '##ी', '##ो', '##।', '##॥', '##ং', '##অ', '##আ', '##ই', '##উ', '##এ', '##ও', '##ক', '##খ', '##গ', '##চ', '##ছ', '##জ', '##ট', '##ড', '##ণ', '##ত', '##থ', '##দ', '##ধ', '##ন', '##প', '##ব', '##ভ', '##ম', '##য', '##র', '##ল', '##শ', '##ষ', '##স', '##হ', '##া', '##ি', '##ী', '##ে', '##க', '##ச', '##ட', '##த', '##ந', '##ன', '##ப']\n",
            "['##ம', '##ய', '##ர', '##ல', '##ள', '##வ', '##ா', '##ி', '##ு', '##ே', '##ை', '##ನ', '##ರ', '##ಾ', '##ක', '##ය', '##ර', '##ල', '##ව', '##ා', '##ก', '##ง', '##ต', '##ท', '##น', '##พ', '##ม', '##ย', '##ร', '##ล', '##ว', '##ส', '##อ', '##า', '##เ', '##་', '##།', '##ག', '##ང', '##ད', '##ན', '##པ', '##བ', '##མ', '##འ', '##ར', '##ལ', '##ས', '##မ', '##ა']\n",
            "['##ბ', '##გ', '##დ', '##ე', '##ვ', '##თ', '##ი', '##კ', '##ლ', '##მ', '##ნ', '##ო', '##რ', '##ს', '##ტ', '##უ', '##ᄀ', '##ᄂ', '##ᄃ', '##ᄅ', '##ᄆ', '##ᄇ', '##ᄉ', '##ᄊ', '##ᄋ', '##ᄌ', '##ᄎ', '##ᄏ', '##ᄐ', '##ᄑ', '##ᄒ', '##ᅡ', '##ᅢ', '##ᅥ', '##ᅦ', '##ᅧ', '##ᅩ', '##ᅪ', '##ᅭ', '##ᅮ', '##ᅯ', '##ᅲ', '##ᅳ', '##ᅴ', '##ᅵ', '##ᆨ', '##ᆫ', '##ᆯ', '##ᆷ', '##ᆸ']\n",
            "['##ᆼ', '##ᴬ', '##ᴮ', '##ᴰ', '##ᴵ', '##ᴺ', '##ᵀ', '##ᵃ', '##ᵇ', '##ᵈ', '##ᵉ', '##ᵍ', '##ᵏ', '##ᵐ', '##ᵒ', '##ᵖ', '##ᵗ', '##ᵘ', '##ᵣ', '##ᵤ', '##ᵥ', '##ᶜ', '##ᶠ', '##‐', '##‑', '##‒', '##–', '##—', '##―', '##‖', '##‘', '##’', '##‚', '##“', '##”', '##„', '##†', '##‡', '##•', '##…', '##‰', '##′', '##″', '##›', '##‿', '##⁄', '##⁰', '##ⁱ', '##⁴', '##⁵']\n",
            "['##⁶', '##⁷', '##⁸', '##⁹', '##⁻', '##ⁿ', '##₅', '##₆', '##₇', '##₈', '##₉', '##₊', '##₍', '##₎', '##ₐ', '##ₑ', '##ₒ', '##ₓ', '##ₕ', '##ₖ', '##ₗ', '##ₘ', '##ₚ', '##ₛ', '##ₜ', '##₤', '##₩', '##€', '##₱', '##₹', '##ℓ', '##№', '##ℝ', '##™', '##⅓', '##⅔', '##←', '##↑', '##→', '##↓', '##↔', '##↦', '##⇄', '##⇌', '##⇒', '##∂', '##∅', '##∆', '##∇', '##∈']\n",
            "['##∗', '##∘', '##√', '##∞', '##∧', '##∨', '##∩', '##∪', '##≈', '##≡', '##≤', '##≥', '##⊂', '##⊆', '##⊕', '##⊗', '##⋅', '##─', '##│', '##■', '##▪', '##●', '##★', '##☆', '##☉', '##♠', '##♣', '##♥', '##♦', '##♯', '##⟨', '##⟩', '##ⱼ', '##⺩', '##⺼', '##⽥', '##、', '##。', '##〈', '##〉', '##《', '##》', '##「', '##」', '##『', '##』', '##〜', '##あ', '##い', '##う']\n",
            "['##え', '##お', '##か', '##き', '##く', '##け', '##こ', '##さ', '##し', '##す', '##せ', '##そ', '##た', '##ち', '##っ', '##つ', '##て', '##と', '##な', '##に', '##ぬ', '##ね', '##の', '##は', '##ひ', '##ふ', '##へ', '##ほ', '##ま', '##み', '##む', '##め', '##も', '##や', '##ゆ', '##よ', '##ら', '##り', '##る', '##れ', '##ろ', '##を', '##ん', '##ァ', '##ア', '##ィ', '##イ', '##ウ', '##ェ', '##エ']\n",
            "['##オ', '##カ', '##キ', '##ク', '##ケ', '##コ', '##サ', '##シ', '##ス', '##セ', '##タ', '##チ', '##ッ', '##ツ', '##テ', '##ト', '##ナ', '##ニ', '##ノ', '##ハ', '##ヒ', '##フ', '##ヘ', '##ホ', '##マ', '##ミ', '##ム', '##メ', '##モ', '##ャ', '##ュ', '##ョ', '##ラ', '##リ', '##ル', '##レ', '##ロ', '##ワ', '##ン', '##・', '##ー', '##一', '##三', '##上', '##下', '##不', '##世', '##中', '##主', '##久']\n",
            "['##之', '##也', '##事', '##二', '##五', '##井', '##京', '##人', '##亻', '##仁', '##介', '##代', '##仮', '##伊', '##会', '##佐', '##侍', '##保', '##信', '##健', '##元', '##光', '##八', '##公', '##内', '##出', '##分', '##前', '##劉', '##力', '##加', '##勝', '##北', '##区', '##十', '##千', '##南', '##博', '##原', '##口', '##古', '##史', '##司', '##合', '##吉', '##同', '##名', '##和', '##囗', '##四']\n",
            "['##国', '##國', '##土', '##地', '##坂', '##城', '##堂', '##場', '##士', '##夏', '##外', '##大', '##天', '##太', '##夫', '##奈', '##女', '##子', '##学', '##宀', '##宇', '##安', '##宗', '##定', '##宣', '##宮', '##家', '##宿', '##寺', '##將', '##小', '##尚', '##山', '##岡', '##島', '##崎', '##川', '##州', '##巿', '##帝', '##平', '##年', '##幸', '##广', '##弘', '##張', '##彳', '##後', '##御', '##德']\n",
            "['##心', '##忄', '##志', '##忠', '##愛', '##成', '##我', '##戦', '##戸', '##手', '##扌', '##政', '##文', '##新', '##方', '##日', '##明', '##星', '##春', '##昭', '##智', '##曲', '##書', '##月', '##有', '##朝', '##木', '##本', '##李', '##村', '##東', '##松', '##林', '##森', '##楊', '##樹', '##橋', '##歌', '##止', '##正', '##武', '##比', '##氏', '##民', '##水', '##氵', '##氷', '##永', '##江', '##沢']\n",
            "['##河', '##治', '##法', '##海', '##清', '##漢', '##瀬', '##火', '##版', '##犬', '##王', '##生', '##田', '##男', '##疒', '##発', '##白', '##的', '##皇', '##目', '##相', '##省', '##真', '##石', '##示', '##社', '##神', '##福', '##禾', '##秀', '##秋', '##空', '##立', '##章', '##竹', '##糹', '##美', '##義', '##耳', '##良', '##艹', '##花', '##英', '##華', '##葉', '##藤', '##行', '##街', '##西', '##見']\n",
            "['##訁', '##語', '##谷', '##貝', '##貴', '##車', '##軍', '##辶', '##道', '##郎', '##郡', '##部', '##都', '##里', '##野', '##金', '##鈴', '##镇', '##長', '##門', '##間', '##阝', '##阿', '##陳', '##陽', '##雄', '##青', '##面', '##風', '##食', '##香', '##馬', '##高', '##龍', '##龸', '##ﬁ', '##ﬂ', '##！', '##（', '##）', '##，', '##－', '##．', '##／', '##：', '##？', '##～']\n"
          ]
        }
      ]
    },
    {
      "cell_type": "markdown",
      "metadata": {
        "id": "0-iLybyZVDOj"
      },
      "source": [
        "Replacing the hashes with comparison of the  hashed tokens with original tokens."
      ]
    },
    {
      "cell_type": "code",
      "metadata": {
        "id": "sipcQJ37U7oY"
      },
      "source": [
        "unhashed_tokens=[token.replace(\"##\",\"\") for token in hashed_one_chars]"
      ],
      "execution_count": null,
      "outputs": []
    },
    {
      "cell_type": "code",
      "metadata": {
        "colab": {
          "base_uri": "https://localhost:8080/"
        },
        "id": "29aDTefBWWR9",
        "outputId": "0ed79c13-68a5-4970-bac6-51335657c5e6"
      },
      "source": [
        "print('Number of single character tokens:', len(unhashed_tokens), '\\n')\n",
        "for i in range(0, len(unhashed_tokens), 50):\n",
        "    \n",
        "      end = min(i + 50, len(unhashed_tokens) + 1)\n",
        "    \n",
        "      print(unhashed_tokens[i:end])"
      ],
      "execution_count": null,
      "outputs": [
        {
          "output_type": "stream",
          "name": "stdout",
          "text": [
            "Number of single character tokens: 997 \n",
            "\n",
            "['s', 'a', 'e', 'i', 'n', 'o', 'd', 'r', 'y', 't', 'l', 'm', 'u', 'h', 'k', 'c', 'g', 'p', '2', 'z', '1', 'b', '3', 'f', '4', '6', '7', 'x', 'v', '8', '5', '9', '0', 'w', 'j', 'q', '°', '₂', 'а', 'и', '²', '₃', 'ı', '₁', '⁺', '½', 'о', 'ه', 'ي', 'α']\n",
            "['е', 'د', 'ن', 'ν', 'ø', 'р', '₄', '₀', 'ر', 'я', '³', 'ι', 'ł', 'н', 'ᵢ', 'ₙ', 'ß', 'ة', 'ς', 'م', '−', 'т', 'ː', 'ل', 'ь', 'к', '♭', 'η', 'ی', 'в', 'ا', '×', '¹', 'ы', 'ה', 'ɛ', 'л', '!', '\"', '#', '$', '%', '&', \"'\", '(', ')', '*', '+', ',', '-']\n",
            "['.', '/', ':', ';', '<', '=', '>', '?', '@', '[', '\\\\', ']', '^', '_', '`', '{', '|', '}', '~', '¡', '¢', '£', '¤', '¥', '¦', '§', '¨', '©', 'ª', '«', '¬', '®', '±', '´', 'µ', '¶', '·', 'º', '»', '¼', '¾', '¿', 'æ', 'ð', '÷', 'þ', 'đ', 'ħ', 'ŋ', 'œ']\n",
            "['ƒ', 'ɐ', 'ɑ', 'ɒ', 'ɔ', 'ɕ', 'ə', 'ɡ', 'ɣ', 'ɨ', 'ɪ', 'ɫ', 'ɬ', 'ɯ', 'ɲ', 'ɴ', 'ɹ', 'ɾ', 'ʀ', 'ʁ', 'ʂ', 'ʃ', 'ʉ', 'ʊ', 'ʋ', 'ʌ', 'ʎ', 'ʐ', 'ʑ', 'ʒ', 'ʔ', 'ʰ', 'ʲ', 'ʳ', 'ʷ', 'ʸ', 'ʻ', 'ʼ', 'ʾ', 'ʿ', 'ˈ', 'ˡ', 'ˢ', 'ˣ', 'ˤ', 'β', 'γ', 'δ', 'ε', 'ζ']\n",
            "['θ', 'κ', 'λ', 'μ', 'ξ', 'ο', 'π', 'ρ', 'σ', 'τ', 'υ', 'φ', 'χ', 'ψ', 'ω', 'б', 'г', 'д', 'ж', 'з', 'м', 'п', 'с', 'у', 'ф', 'х', 'ц', 'ч', 'ш', 'щ', 'ъ', 'э', 'ю', 'ђ', 'є', 'і', 'ј', 'љ', 'њ', 'ћ', 'ӏ', 'ա', 'բ', 'գ', 'դ', 'ե', 'թ', 'ի', 'լ', 'կ']\n",
            "['հ', 'մ', 'յ', 'ն', 'ո', 'պ', 'ս', 'վ', 'տ', 'ր', 'ւ', 'ք', '־', 'א', 'ב', 'ג', 'ד', 'ו', 'ז', 'ח', 'ט', 'י', 'ך', 'כ', 'ל', 'ם', 'מ', 'ן', 'נ', 'ס', 'ע', 'ף', 'פ', 'ץ', 'צ', 'ק', 'ר', 'ש', 'ת', '،', 'ء', 'ب', 'ت', 'ث', 'ج', 'ح', 'خ', 'ذ', 'ز', 'س']\n",
            "['ش', 'ص', 'ض', 'ط', 'ظ', 'ع', 'غ', 'ـ', 'ف', 'ق', 'ك', 'و', 'ى', 'ٹ', 'پ', 'چ', 'ک', 'گ', 'ں', 'ھ', 'ہ', 'ے', 'अ', 'आ', 'उ', 'ए', 'क', 'ख', 'ग', 'च', 'ज', 'ट', 'ड', 'ण', 'त', 'थ', 'द', 'ध', 'न', 'प', 'ब', 'भ', 'म', 'य', 'र', 'ल', 'व', 'श', 'ष', 'स']\n",
            "['ह', 'ा', 'ि', 'ी', 'ो', '।', '॥', 'ং', 'অ', 'আ', 'ই', 'উ', 'এ', 'ও', 'ক', 'খ', 'গ', 'চ', 'ছ', 'জ', 'ট', 'ড', 'ণ', 'ত', 'থ', 'দ', 'ধ', 'ন', 'প', 'ব', 'ভ', 'ম', 'য', 'র', 'ল', 'শ', 'ষ', 'স', 'হ', 'া', 'ি', 'ী', 'ে', 'க', 'ச', 'ட', 'த', 'ந', 'ன', 'ப']\n",
            "['ம', 'ய', 'ர', 'ல', 'ள', 'வ', 'ா', 'ி', 'ு', 'ே', 'ை', 'ನ', 'ರ', 'ಾ', 'ක', 'ය', 'ර', 'ල', 'ව', 'ා', 'ก', 'ง', 'ต', 'ท', 'น', 'พ', 'ม', 'ย', 'ร', 'ล', 'ว', 'ส', 'อ', 'า', 'เ', '་', '།', 'ག', 'ང', 'ད', 'ན', 'པ', 'བ', 'མ', 'འ', 'ར', 'ལ', 'ས', 'မ', 'ა']\n",
            "['ბ', 'გ', 'დ', 'ე', 'ვ', 'თ', 'ი', 'კ', 'ლ', 'მ', 'ნ', 'ო', 'რ', 'ს', 'ტ', 'უ', 'ᄀ', 'ᄂ', 'ᄃ', 'ᄅ', 'ᄆ', 'ᄇ', 'ᄉ', 'ᄊ', 'ᄋ', 'ᄌ', 'ᄎ', 'ᄏ', 'ᄐ', 'ᄑ', 'ᄒ', 'ᅡ', 'ᅢ', 'ᅥ', 'ᅦ', 'ᅧ', 'ᅩ', 'ᅪ', 'ᅭ', 'ᅮ', 'ᅯ', 'ᅲ', 'ᅳ', 'ᅴ', 'ᅵ', 'ᆨ', 'ᆫ', 'ᆯ', 'ᆷ', 'ᆸ']\n",
            "['ᆼ', 'ᴬ', 'ᴮ', 'ᴰ', 'ᴵ', 'ᴺ', 'ᵀ', 'ᵃ', 'ᵇ', 'ᵈ', 'ᵉ', 'ᵍ', 'ᵏ', 'ᵐ', 'ᵒ', 'ᵖ', 'ᵗ', 'ᵘ', 'ᵣ', 'ᵤ', 'ᵥ', 'ᶜ', 'ᶠ', '‐', '‑', '‒', '–', '—', '―', '‖', '‘', '’', '‚', '“', '”', '„', '†', '‡', '•', '…', '‰', '′', '″', '›', '‿', '⁄', '⁰', 'ⁱ', '⁴', '⁵']\n",
            "['⁶', '⁷', '⁸', '⁹', '⁻', 'ⁿ', '₅', '₆', '₇', '₈', '₉', '₊', '₍', '₎', 'ₐ', 'ₑ', 'ₒ', 'ₓ', 'ₕ', 'ₖ', 'ₗ', 'ₘ', 'ₚ', 'ₛ', 'ₜ', '₤', '₩', '€', '₱', '₹', 'ℓ', '№', 'ℝ', '™', '⅓', '⅔', '←', '↑', '→', '↓', '↔', '↦', '⇄', '⇌', '⇒', '∂', '∅', '∆', '∇', '∈']\n",
            "['∗', '∘', '√', '∞', '∧', '∨', '∩', '∪', '≈', '≡', '≤', '≥', '⊂', '⊆', '⊕', '⊗', '⋅', '─', '│', '■', '▪', '●', '★', '☆', '☉', '♠', '♣', '♥', '♦', '♯', '⟨', '⟩', 'ⱼ', '⺩', '⺼', '⽥', '、', '。', '〈', '〉', '《', '》', '「', '」', '『', '』', '〜', 'あ', 'い', 'う']\n",
            "['え', 'お', 'か', 'き', 'く', 'け', 'こ', 'さ', 'し', 'す', 'せ', 'そ', 'た', 'ち', 'っ', 'つ', 'て', 'と', 'な', 'に', 'ぬ', 'ね', 'の', 'は', 'ひ', 'ふ', 'へ', 'ほ', 'ま', 'み', 'む', 'め', 'も', 'や', 'ゆ', 'よ', 'ら', 'り', 'る', 'れ', 'ろ', 'を', 'ん', 'ァ', 'ア', 'ィ', 'イ', 'ウ', 'ェ', 'エ']\n",
            "['オ', 'カ', 'キ', 'ク', 'ケ', 'コ', 'サ', 'シ', 'ス', 'セ', 'タ', 'チ', 'ッ', 'ツ', 'テ', 'ト', 'ナ', 'ニ', 'ノ', 'ハ', 'ヒ', 'フ', 'ヘ', 'ホ', 'マ', 'ミ', 'ム', 'メ', 'モ', 'ャ', 'ュ', 'ョ', 'ラ', 'リ', 'ル', 'レ', 'ロ', 'ワ', 'ン', '・', 'ー', '一', '三', '上', '下', '不', '世', '中', '主', '久']\n",
            "['之', '也', '事', '二', '五', '井', '京', '人', '亻', '仁', '介', '代', '仮', '伊', '会', '佐', '侍', '保', '信', '健', '元', '光', '八', '公', '内', '出', '分', '前', '劉', '力', '加', '勝', '北', '区', '十', '千', '南', '博', '原', '口', '古', '史', '司', '合', '吉', '同', '名', '和', '囗', '四']\n",
            "['国', '國', '土', '地', '坂', '城', '堂', '場', '士', '夏', '外', '大', '天', '太', '夫', '奈', '女', '子', '学', '宀', '宇', '安', '宗', '定', '宣', '宮', '家', '宿', '寺', '將', '小', '尚', '山', '岡', '島', '崎', '川', '州', '巿', '帝', '平', '年', '幸', '广', '弘', '張', '彳', '後', '御', '德']\n",
            "['心', '忄', '志', '忠', '愛', '成', '我', '戦', '戸', '手', '扌', '政', '文', '新', '方', '日', '明', '星', '春', '昭', '智', '曲', '書', '月', '有', '朝', '木', '本', '李', '村', '東', '松', '林', '森', '楊', '樹', '橋', '歌', '止', '正', '武', '比', '氏', '民', '水', '氵', '氷', '永', '江', '沢']\n",
            "['河', '治', '法', '海', '清', '漢', '瀬', '火', '版', '犬', '王', '生', '田', '男', '疒', '発', '白', '的', '皇', '目', '相', '省', '真', '石', '示', '社', '神', '福', '禾', '秀', '秋', '空', '立', '章', '竹', '糹', '美', '義', '耳', '良', '艹', '花', '英', '華', '葉', '藤', '行', '街', '西', '見']\n",
            "['訁', '語', '谷', '貝', '貴', '車', '軍', '辶', '道', '郎', '郡', '部', '都', '里', '野', '金', '鈴', '镇', '長', '門', '間', '阝', '阿', '陳', '陽', '雄', '青', '面', '風', '食', '香', '馬', '高', '龍', '龸', 'ﬁ', 'ﬂ', '！', '（', '）', '，', '－', '．', '／', '：', '？', '～']\n"
          ]
        }
      ]
    },
    {
      "cell_type": "markdown",
      "metadata": {
        "id": "Xu9snXkiWoJF"
      },
      "source": [
        "Now we will compare the one charecter structures are identical to the hashed one charecter tokens."
      ]
    },
    {
      "cell_type": "code",
      "metadata": {
        "colab": {
          "base_uri": "https://localhost:8080/"
        },
        "id": "YOya1S1XWiUa",
        "outputId": "106521c8-f516-49ac-f800-ed9aa85a7390"
      },
      "source": [
        "print(\"Comparison for Equality:-\",set(one_chars)==set(unhashed_tokens))"
      ],
      "execution_count": null,
      "outputs": [
        {
          "output_type": "stream",
          "name": "stdout",
          "text": [
            "Comparison for Equality:- True\n"
          ]
        }
      ]
    },
    {
      "cell_type": "markdown",
      "metadata": {
        "id": "TsW1lrbgZqPk"
      },
      "source": [
        "**Taking all the hashed vocabulary together and further exploring them together.** "
      ]
    },
    {
      "cell_type": "code",
      "metadata": {
        "id": "viotQTQGW5TQ"
      },
      "source": [
        "hashed=[]\n",
        "for token in tokenizer.vocab.keys():\n",
        "  if token[0:2]==\"##\":\n",
        "    hashed.append(token)"
      ],
      "execution_count": null,
      "outputs": []
    },
    {
      "cell_type": "code",
      "metadata": {
        "colab": {
          "base_uri": "https://localhost:8080/"
        },
        "id": "cKdzLBIbaQL7",
        "outputId": "82258da2-cb30-4727-d753-46900039a1b1"
      },
      "source": [
        "print(\"The total number of hashed elements are:-\",len(hashed))"
      ],
      "execution_count": null,
      "outputs": [
        {
          "output_type": "stream",
          "name": "stdout",
          "text": [
            "The total number of hashed elements are:- 5828\n"
          ]
        }
      ]
    },
    {
      "cell_type": "markdown",
      "metadata": {
        "id": "xcTjCr3Yjbfa"
      },
      "source": [
        "**Getting different length tokens in the vocabulary** "
      ]
    },
    {
      "cell_type": "code",
      "metadata": {
        "id": "r--lFt9taSb0"
      },
      "source": [
        "len_hashed=[len(token)for token in hashed]\n",
        "len_hashed"
      ],
      "execution_count": null,
      "outputs": []
    },
    {
      "cell_type": "code",
      "metadata": {
        "colab": {
          "base_uri": "https://localhost:8080/"
        },
        "id": "4mNmj9C-avut",
        "outputId": "f422d870-68e0-4913-d23f-5ce6fe196c43"
      },
      "source": [
        "print(\"Distinct length of Words in the Vocabulary:\",set(len_hashed))"
      ],
      "execution_count": null,
      "outputs": [
        {
          "output_type": "stream",
          "name": "stdout",
          "text": [
            "Distinct length of Words in the Vocabulary: {3, 4, 5, 6, 7, 8, 9, 10, 11, 12}\n"
          ]
        }
      ]
    },
    {
      "cell_type": "code",
      "metadata": {
        "colab": {
          "base_uri": "https://localhost:8080/"
        },
        "id": "KtLXJiz6bPV3",
        "outputId": "9db56f69-8e35-4612-8a24-141609b26c7a"
      },
      "source": [
        "length=list(set(len_hashed))\n",
        "length"
      ],
      "execution_count": null,
      "outputs": [
        {
          "output_type": "execute_result",
          "data": {
            "text/plain": [
              "[3, 4, 5, 6, 7, 8, 9, 10, 11, 12]"
            ]
          },
          "metadata": {},
          "execution_count": 15
        }
      ]
    },
    {
      "cell_type": "markdown",
      "metadata": {
        "id": "L6n67EDajuAU"
      },
      "source": [
        "**Getting the frequencies of different hashed Tokens**"
      ]
    },
    {
      "cell_type": "code",
      "metadata": {
        "id": "1c54QPvbb5s3"
      },
      "source": [
        "hashed_dict={}"
      ],
      "execution_count": null,
      "outputs": []
    },
    {
      "cell_type": "code",
      "metadata": {
        "colab": {
          "base_uri": "https://localhost:8080/"
        },
        "id": "EgXv8mvAdBgU",
        "outputId": "0355e629-f25a-42d9-967b-7b606bd96801"
      },
      "source": [
        "for i in length:\n",
        "  hashed_dict[i]=0\n",
        "hashed_dict"
      ],
      "execution_count": null,
      "outputs": [
        {
          "output_type": "execute_result",
          "data": {
            "text/plain": [
              "{3: 0, 4: 0, 5: 0, 6: 0, 7: 0, 8: 0, 9: 0, 10: 0, 11: 0, 12: 0}"
            ]
          },
          "metadata": {},
          "execution_count": 17
        }
      ]
    },
    {
      "cell_type": "code",
      "metadata": {
        "id": "gFCbjuoqdK1F"
      },
      "source": [
        "for token in hashed:\n",
        "  m=len(token)\n",
        "  #print(m)\n",
        "  hashed_dict[m]+=1"
      ],
      "execution_count": null,
      "outputs": []
    },
    {
      "cell_type": "code",
      "metadata": {
        "colab": {
          "base_uri": "https://localhost:8080/"
        },
        "id": "eGi2kH07dzlt",
        "outputId": "144ee2a8-76c4-45d3-bb11-aa2dfa144b08"
      },
      "source": [
        "hashed_dict"
      ],
      "execution_count": null,
      "outputs": [
        {
          "output_type": "execute_result",
          "data": {
            "text/plain": [
              "{3: 997,\n",
              " 4: 521,\n",
              " 5: 1494,\n",
              " 6: 1577,\n",
              " 7: 695,\n",
              " 8: 326,\n",
              " 9: 152,\n",
              " 10: 52,\n",
              " 11: 11,\n",
              " 12: 3}"
            ]
          },
          "metadata": {},
          "execution_count": 19
        }
      ]
    },
    {
      "cell_type": "markdown",
      "metadata": {
        "id": "WfYHfrwQmNiX"
      },
      "source": [
        "### **Visualisation Of The Hashed Tokens**"
      ]
    },
    {
      "cell_type": "code",
      "metadata": {
        "colab": {
          "base_uri": "https://localhost:8080/",
          "height": 638
        },
        "id": "22iHSdMOkRRe",
        "outputId": "d62997d5-2f04-467b-b191-bb5662128e5d"
      },
      "source": [
        "import matplotlib.pyplot as plt\n",
        "plt.figure(figsize=(12,10))\n",
        "plt.bar(range(len(hashed_dict)), list(hashed_dict.values()), align='center')\n",
        "plt.title(\"Frequencies Of different Hashed Word tokens\")\n",
        "plt.xticks(range(len(hashed_dict)), list(hashed_dict.keys()))\n",
        "plt.ylabel(\"Frequencies\")\n",
        "plt.xlabel(\"Token Length\")"
      ],
      "execution_count": null,
      "outputs": [
        {
          "output_type": "execute_result",
          "data": {
            "text/plain": [
              "Text(0.5, 0, 'Token Length')"
            ]
          },
          "metadata": {},
          "execution_count": 21
        },
        {
          "output_type": "display_data",
          "data": {
            "image/png": "[encoded data removed]",
            "text/plain": [
              "<Figure size 864x720 with 1 Axes>"
            ]
          },
          "metadata": {
            "needs_background": "light"
          }
        }
      ]
    },
    {
      "cell_type": "code",
      "metadata": {
        "id": "lQSkDGNHkXp8"
      },
      "source": [
        "import seaborn as sns "
      ],
      "execution_count": null,
      "outputs": []
    },
    {
      "cell_type": "markdown",
      "metadata": {
        "id": "pPWxPqlOy8HB"
      },
      "source": [
        "### **Start Words and Sub Words**"
      ]
    },
    {
      "cell_type": "code",
      "metadata": {
        "colab": {
          "base_uri": "https://localhost:8080/"
        },
        "id": "DjiZNXf_oy6q",
        "outputId": "ad8f0bc9-7de6-4945-8796-a902bf3127ec"
      },
      "source": [
        "hash_len=len(hashed)\n",
        "full=len(tokenizer.vocab.keys())\n",
        "print('Number of subwords:',hash_len)\n",
        "print(\"Number of words in Vocabulary:\",full)\n",
        "print(\"The Percentage of hashed tokens :\",hash_len/full*100.00)"
      ],
      "execution_count": null,
      "outputs": [
        {
          "output_type": "stream",
          "name": "stdout",
          "text": [
            "Number of subwords: 5828\n",
            "Number of words in Vocabulary: 30522\n",
            "The Percentage of hashed tokens : 19.09442369438438\n"
          ]
        }
      ]
    },
    {
      "cell_type": "code",
      "metadata": {
        "id": "WXAPJsxNwnjH"
      },
      "source": [
        "unhashed_tokens2=[tokens.replace(\"##\",\"\")for tokens in hashed]\n",
        "unhashed_tokens2"
      ],
      "execution_count": null,
      "outputs": []
    },
    {
      "cell_type": "code",
      "metadata": {
        "id": "jd9HxVtno-QV"
      },
      "source": [
        "Not_present=[]\n",
        "for token in unhashed_tokens2:\n",
        "  if not token in one_chars:\n",
        "    #print(\"Did not find a token for\",token)\n",
        "    Not_present.append(token)"
      ],
      "execution_count": null,
      "outputs": []
    },
    {
      "cell_type": "code",
      "metadata": {
        "id": "VHvU48Y8wcHY"
      },
      "source": [
        "with open(\"NotPresent.txt\",\"w\") as f1:\n",
        "  f1.write(\"These are the list of solely subwords:\"+\"\\n\")\n",
        "  for token in unhashed_tokens2:\n",
        "    if not token in one_chars:\n",
        "      f1.write(token+\"\\n\")"
      ],
      "execution_count": null,
      "outputs": []
    },
    {
      "cell_type": "markdown",
      "metadata": {
        "id": "fSfEFm4gy88E"
      },
      "source": [
        "### **Numbers**"
      ]
    },
    {
      "cell_type": "code",
      "metadata": {
        "colab": {
          "base_uri": "https://localhost:8080/"
        },
        "id": "gOigV_DyxMjS",
        "outputId": "a301c3f4-dac6-49d0-aa42-6f864a77c1a4"
      },
      "source": [
        "count=0\n",
        "for token in tokenizer.vocab.keys():\n",
        "  if token.isdigit():\n",
        "    count=count+1\n",
        "print(\"The total count of Numbers are:\",count)"
      ],
      "execution_count": null,
      "outputs": [
        {
          "output_type": "stream",
          "name": "stdout",
          "text": [
            "The total count of Numbers are: 881\n"
          ]
        }
      ]
    },
    {
      "cell_type": "markdown",
      "metadata": {
        "id": "2OHxgn1f0GjW"
      },
      "source": [
        "### **Dates**"
      ]
    },
    {
      "cell_type": "code",
      "metadata": {
        "colab": {
          "base_uri": "https://localhost:8080/"
        },
        "id": "6msPHA7lytre",
        "outputId": "071c2eae-08d5-49e7-fc62-6cb57d8d9262"
      },
      "source": [
        "count=0\n",
        "for i in range(1600,2021):\n",
        "  if str(i) in tokenizer.vocab:\n",
        "    count+=1\n",
        "print (\"The number of dates are:\",count)"
      ],
      "execution_count": null,
      "outputs": [
        {
          "output_type": "stream",
          "name": "stdout",
          "text": [
            "The number of dates are: 384\n"
          ]
        }
      ]
    },
    {
      "cell_type": "code",
      "metadata": {
        "colab": {
          "base_uri": "https://localhost:8080/"
        },
        "id": "M-YRRe9lz_Gd",
        "outputId": "501b615a-0fcb-49f1-8a4f-6ba70857992e"
      },
      "source": [
        "!pip install wget"
      ],
      "execution_count": null,
      "outputs": [
        {
          "output_type": "stream",
          "name": "stdout",
          "text": [
            "Collecting wget\n",
            "  Downloading wget-3.2.zip (10 kB)\n",
            "Building wheels for collected packages: wget\n",
            "  Building wheel for wget (setup.py) ... \u001b[?25l\u001b[?25hdone\n",
            "  Created wheel for wget: filename=wget-3.2-py3-none-any.whl size=9672 sha256=473a8a3a446036eafe96612de466d715d5b8a60c157e795ff25f7dbe622048ac\n",
            "  Stored in directory: /root/.cache/pip/wheels/a1/b6/7c/0e63e34eb06634181c63adacca38b79ff8f35c37e3c13e3c02\n",
            "Successfully built wget\n",
            "Installing collected packages: wget\n",
            "Successfully installed wget-3.2\n"
          ]
        }
      ]
    },
    {
      "cell_type": "code",
      "metadata": {
        "id": "A_9gHKsy0Olx"
      },
      "source": [
        "import wget\n",
        "import random "
      ],
      "execution_count": null,
      "outputs": []
    },
    {
      "cell_type": "markdown",
      "metadata": {
        "id": "-vn-uelR2Bgk"
      },
      "source": [
        "### **Names**"
      ]
    },
    {
      "cell_type": "code",
      "metadata": {
        "colab": {
          "base_uri": "https://localhost:8080/",
          "height": 52
        },
        "id": "Gje9HAyt0Rk8",
        "outputId": "eba70c95-5117-4ae5-a9ec-fc87381484bc"
      },
      "source": [
        "print('Beginning file download with wget module')\n",
        "\n",
        "url = 'http://www.gutenberg.org/files/3201/files/NAMES.TXT'\n",
        "wget.download(url, 'first-names.txt')\n"
      ],
      "execution_count": null,
      "outputs": [
        {
          "output_type": "stream",
          "name": "stdout",
          "text": [
            "Beginning file download with wget module\n"
          ]
        },
        {
          "output_type": "execute_result",
          "data": {
            "application/vnd.google.colaboratory.intrinsic+json": {
              "type": "string"
            },
            "text/plain": [
              "'first-names.txt'"
            ]
          },
          "metadata": {},
          "execution_count": 34
        }
      ]
    },
    {
      "cell_type": "code",
      "metadata": {
        "id": "66avbav90U-t"
      },
      "source": [
        "with open(\"first-names.txt\",\"rb\") as f:\n",
        "  names_encoded = f.readlines()\n",
        "names_encoded"
      ],
      "execution_count": null,
      "outputs": []
    },
    {
      "cell_type": "code",
      "metadata": {
        "id": "uMn8ce9z03o6"
      },
      "source": [
        "names=[]\n",
        "for name in names_encoded:\n",
        "  try:\n",
        "    names.append(name.rstrip().lower().decode('utf-8'))\n",
        "  except:\n",
        "    continue"
      ],
      "execution_count": null,
      "outputs": []
    },
    {
      "cell_type": "code",
      "metadata": {
        "colab": {
          "base_uri": "https://localhost:8080/"
        },
        "id": "6WAUsHoL1VEq",
        "outputId": "12a3294d-aabb-4890-ca59-e1974bc9d31e"
      },
      "source": [
        "print(\"The total count of names are :\",len(names))\n",
        "print(\"For Example :\", random.choice(names))"
      ],
      "execution_count": null,
      "outputs": [
        {
          "output_type": "stream",
          "name": "stdout",
          "text": [
            "The total count of names are : 21985\n",
            "For Example : portugal\n"
          ]
        }
      ]
    },
    {
      "cell_type": "code",
      "metadata": {
        "id": "JqU-1d2E1War"
      },
      "source": [
        "import string\n",
        "alphabet=list(string.ascii_lowercase)"
      ],
      "execution_count": null,
      "outputs": []
    },
    {
      "cell_type": "code",
      "metadata": {
        "id": "7gW3jz6_2wgv"
      },
      "source": [
        "hashed_alphabet={}\n",
        "for i in alphabet :\n",
        "  hashed_alphabet[i]=0\n",
        "hashed_alphabet"
      ],
      "execution_count": null,
      "outputs": []
    },
    {
      "cell_type": "code",
      "metadata": {
        "id": "55Jz15Pj4eI_"
      },
      "source": [
        "for tokens in names:\n",
        "  if tokens.isalpha():\n",
        "    m=tokens[0]\n",
        "    hashed_alphabet[m]+=1\n",
        "hashed_alphabet"
      ],
      "execution_count": null,
      "outputs": []
    },
    {
      "cell_type": "code",
      "metadata": {
        "colab": {
          "base_uri": "https://localhost:8080/",
          "height": 638
        },
        "id": "wDeiVAXC5QCe",
        "outputId": "6bda4802-fa05-4172-e5ac-a27699da1f73"
      },
      "source": [
        "plt.figure(figsize=(12,10))\n",
        "plt.bar(range(len(hashed_alphabet)), list(hashed_alphabet.values()), align='center')\n",
        "plt.title(\"Frequencies Of different Alphabet Words \")\n",
        "plt.xticks(range(len(hashed_alphabet)), list(hashed_alphabet.keys()))\n",
        "plt.ylabel(\"Frequencies\")\n",
        "plt.xlabel(\"Alphabet words\")"
      ],
      "execution_count": null,
      "outputs": [
        {
          "output_type": "execute_result",
          "data": {
            "text/plain": [
              "Text(0.5, 0, 'Alphabet words')"
            ]
          },
          "metadata": {},
          "execution_count": 58
        },
        {
          "output_type": "display_data",
          "data": {
            "image/png": "[encoded data removed]",
            "text/plain": [
              "<Figure size 864x720 with 1 Axes>"
            ]
          },
          "metadata": {
            "needs_background": "light"
          }
        }
      ]
    },
    {
      "cell_type": "code",
      "metadata": {
        "id": "fAz7G8bx6OnQ"
      },
      "source": [
        ""
      ],
      "execution_count": null,
      "outputs": []
    }
  ]
}