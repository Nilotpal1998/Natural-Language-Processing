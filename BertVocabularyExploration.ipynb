{
  "nbformat": 4,
  "nbformat_minor": 0,
  "metadata": {
    "colab": {
      "name": "BertVocabularyExploration.ipynb",
      "provenance": [],
      "authorship_tag": "ABX9TyMHcb88+Bx3eysxXVDA7yZh",
      "include_colab_link": true
    },
    "kernelspec": {
      "name": "python3",
      "display_name": "Python 3"
    },
    "language_info": {
      "name": "python"
    }
  },
  "cells": [
    {
      "cell_type": "markdown",
      "metadata": {
        "id": "view-in-github",
        "colab_type": "text"
      },
      "source": [
        "<a href=\"https://colab.research.google.com/github/Nilotpal1998/Natural-Language-Processing/blob/main/BertVocabularyExploration.ipynb\" target=\"_parent\"><img src=\"https://colab.research.google.com/assets/colab-badge.svg\" alt=\"Open In Colab\"/></a>"
      ]
    },
    {
      "cell_type": "markdown",
      "metadata": {
        "id": "iA3YMw9SG_7q"
      },
      "source": [
        "# **Exploring The Bert Vocabulary**"
      ]
    },
    {
      "cell_type": "markdown",
      "metadata": {
        "id": "LJry4U2OGdlP"
      },
      "source": [
        "## **Load The Model** "
      ]
    },
    {
      "cell_type": "markdown",
      "metadata": {
        "id": "V88ueBI-GtjI"
      },
      "source": [
        "### **Installing the Hugging Face Transformer**"
      ]
    },
    {
      "cell_type": "code",
      "metadata": {
        "colab": {
          "base_uri": "https://localhost:8080/"
        },
        "id": "PzBCLiP8GQpn",
        "outputId": "1563e919-c4b8-4e7d-d1da-33357a1bd099"
      },
      "source": [
        "! pip install pytorch-pretrained-bert"
      ],
      "execution_count": 1,
      "outputs": [
        {
          "output_type": "stream",
          "name": "stdout",
          "text": [
            "Collecting pytorch-pretrained-bert\n",
            "  Downloading pytorch_pretrained_bert-0.6.2-py3-none-any.whl (123 kB)\n",
            "\u001b[?25l\r\u001b[K     |██▋                             | 10 kB 32.5 MB/s eta 0:00:01\r\u001b[K     |█████▎                          | 20 kB 34.4 MB/s eta 0:00:01\r\u001b[K     |████████                        | 30 kB 20.6 MB/s eta 0:00:01\r\u001b[K     |██████████▋                     | 40 kB 17.4 MB/s eta 0:00:01\r\u001b[K     |█████████████▎                  | 51 kB 8.1 MB/s eta 0:00:01\r\u001b[K     |███████████████▉                | 61 kB 8.5 MB/s eta 0:00:01\r\u001b[K     |██████████████████▌             | 71 kB 7.4 MB/s eta 0:00:01\r\u001b[K     |█████████████████████▏          | 81 kB 8.3 MB/s eta 0:00:01\r\u001b[K     |███████████████████████▉        | 92 kB 8.3 MB/s eta 0:00:01\r\u001b[K     |██████████████████████████▌     | 102 kB 7.6 MB/s eta 0:00:01\r\u001b[K     |█████████████████████████████▏  | 112 kB 7.6 MB/s eta 0:00:01\r\u001b[K     |███████████████████████████████▊| 122 kB 7.6 MB/s eta 0:00:01\r\u001b[K     |████████████████████████████████| 123 kB 7.6 MB/s \n",
            "\u001b[?25hRequirement already satisfied: regex in /usr/local/lib/python3.7/dist-packages (from pytorch-pretrained-bert) (2019.12.20)\n",
            "Requirement already satisfied: tqdm in /usr/local/lib/python3.7/dist-packages (from pytorch-pretrained-bert) (4.62.0)\n",
            "Collecting boto3\n",
            "  Downloading boto3-1.18.40-py3-none-any.whl (131 kB)\n",
            "\u001b[K     |████████████████████████████████| 131 kB 44.9 MB/s \n",
            "\u001b[?25hRequirement already satisfied: numpy in /usr/local/lib/python3.7/dist-packages (from pytorch-pretrained-bert) (1.19.5)\n",
            "Requirement already satisfied: torch>=0.4.1 in /usr/local/lib/python3.7/dist-packages (from pytorch-pretrained-bert) (1.9.0+cu102)\n",
            "Requirement already satisfied: requests in /usr/local/lib/python3.7/dist-packages (from pytorch-pretrained-bert) (2.23.0)\n",
            "Requirement already satisfied: typing-extensions in /usr/local/lib/python3.7/dist-packages (from torch>=0.4.1->pytorch-pretrained-bert) (3.7.4.3)\n",
            "Collecting botocore<1.22.0,>=1.21.40\n",
            "  Downloading botocore-1.21.40-py3-none-any.whl (7.9 MB)\n",
            "\u001b[K     |████████████████████████████████| 7.9 MB 59.9 MB/s \n",
            "\u001b[?25hCollecting s3transfer<0.6.0,>=0.5.0\n",
            "  Downloading s3transfer-0.5.0-py3-none-any.whl (79 kB)\n",
            "\u001b[K     |████████████████████████████████| 79 kB 9.6 MB/s \n",
            "\u001b[?25hCollecting jmespath<1.0.0,>=0.7.1\n",
            "  Downloading jmespath-0.10.0-py2.py3-none-any.whl (24 kB)\n",
            "Requirement already satisfied: python-dateutil<3.0.0,>=2.1 in /usr/local/lib/python3.7/dist-packages (from botocore<1.22.0,>=1.21.40->boto3->pytorch-pretrained-bert) (2.8.2)\n",
            "Collecting urllib3<1.27,>=1.25.4\n",
            "  Downloading urllib3-1.26.6-py2.py3-none-any.whl (138 kB)\n",
            "\u001b[K     |████████████████████████████████| 138 kB 65.1 MB/s \n",
            "\u001b[?25hRequirement already satisfied: six>=1.5 in /usr/local/lib/python3.7/dist-packages (from python-dateutil<3.0.0,>=2.1->botocore<1.22.0,>=1.21.40->boto3->pytorch-pretrained-bert) (1.15.0)\n",
            "  Downloading urllib3-1.25.11-py2.py3-none-any.whl (127 kB)\n",
            "\u001b[K     |████████████████████████████████| 127 kB 40.1 MB/s \n",
            "\u001b[?25hRequirement already satisfied: idna<3,>=2.5 in /usr/local/lib/python3.7/dist-packages (from requests->pytorch-pretrained-bert) (2.10)\n",
            "Requirement already satisfied: chardet<4,>=3.0.2 in /usr/local/lib/python3.7/dist-packages (from requests->pytorch-pretrained-bert) (3.0.4)\n",
            "Requirement already satisfied: certifi>=2017.4.17 in /usr/local/lib/python3.7/dist-packages (from requests->pytorch-pretrained-bert) (2021.5.30)\n",
            "Installing collected packages: urllib3, jmespath, botocore, s3transfer, boto3, pytorch-pretrained-bert\n",
            "  Attempting uninstall: urllib3\n",
            "    Found existing installation: urllib3 1.24.3\n",
            "    Uninstalling urllib3-1.24.3:\n",
            "      Successfully uninstalled urllib3-1.24.3\n",
            "\u001b[31mERROR: pip's dependency resolver does not currently take into account all the packages that are installed. This behaviour is the source of the following dependency conflicts.\n",
            "datascience 0.10.6 requires folium==0.2.1, but you have folium 0.8.3 which is incompatible.\u001b[0m\n",
            "Successfully installed boto3-1.18.40 botocore-1.21.40 jmespath-0.10.0 pytorch-pretrained-bert-0.6.2 s3transfer-0.5.0 urllib3-1.25.11\n"
          ]
        }
      ]
    },
    {
      "cell_type": "code",
      "metadata": {
        "id": "3r4QShimGZYm"
      },
      "source": [
        "import torch\n",
        "from pytorch_pretrained_bert import BertTokenizer "
      ],
      "execution_count": 2,
      "outputs": []
    },
    {
      "cell_type": "markdown",
      "metadata": {
        "id": "XsKm6dTvH7NE"
      },
      "source": [
        "**Loading the pretrained model tokenizer from Bert**"
      ]
    },
    {
      "cell_type": "code",
      "metadata": {
        "colab": {
          "base_uri": "https://localhost:8080/"
        },
        "id": "nbgz6enrHgfX",
        "outputId": "a23713b5-c7ff-4629-bc3b-e4b076e5247f"
      },
      "source": [
        "tokenizer = BertTokenizer.from_pretrained('bert-base-uncased')"
      ],
      "execution_count": 4,
      "outputs": [
        {
          "output_type": "stream",
          "name": "stderr",
          "text": [
            "100%|██████████| 231508/231508 [00:00<00:00, 931025.52B/s]\n"
          ]
        }
      ]
    },
    {
      "cell_type": "markdown",
      "metadata": {
        "id": "nukxdAfxMtSz"
      },
      "source": [
        "## **Vocabulary Inspection**"
      ]
    },
    {
      "cell_type": "markdown",
      "metadata": {
        "id": "kDg3Ow3XM1v_"
      },
      "source": [
        "### **Vocal Dump**"
      ]
    },
    {
      "cell_type": "markdown",
      "metadata": {
        "id": "SODc9J1YNBgP"
      },
      "source": [
        "Our aim is retrieve the entire list of tokens from the vocabulary dictionary and write these text files out so that we can pursue them."
      ]
    },
    {
      "cell_type": "code",
      "metadata": {
        "id": "-Bc0q3H1Hutm"
      },
      "source": [
        "with open(\"vocabulary.txt\",\"w\") as f:\n",
        "  for token in tokenizer.vocab.keys():\n",
        "    f.write(token+\"\\n\")"
      ],
      "execution_count": 5,
      "outputs": []
    },
    {
      "cell_type": "markdown",
      "metadata": {
        "id": "pUpsegQPQUKH"
      },
      "source": [
        "We are seeing that there about 999 tokens which are unused and focusing on them we are infering that **Unused tokens are helpful if you want to introduce specific words to your fine-tuning or further pre-training procedure; they allow you to treat words that are relevant only in your context just like you want, and avoid subword splitting that would occur with the original vocabulary of BERT.**\n",
        "Most of them are of the form :-\n",
        "- [unused100]"
      ]
    },
    {
      "cell_type": "markdown",
      "metadata": {
        "id": "i7F8hxL4Q6uk"
      },
      "source": [
        "* Rows 1000-1996 appear to be a dump of individual characters. \n",
        "    * They don't appear to be sorted by frequency (e.g., the letters of the alphabet are all in sequence).\n",
        "* The first word is \"the\" at position 1997.\n",
        "    * From there, the words appear to be sorted by frequency. \n",
        "    * The top ~18 words are whole words, and then number 2016 is ##s, presumably the most common subword."
      ]
    },
    {
      "cell_type": "markdown",
      "metadata": {
        "id": "-KWxXYFjScic"
      },
      "source": [
        "### Single Charecter hashed and unhashed"
      ]
    },
    {
      "cell_type": "code",
      "metadata": {
        "id": "dgYckR9cNpIp"
      },
      "source": [
        "one_chars =[]\n",
        "hashed_one_chars=[]\n",
        "for token in tokenizer.vocab.keys():\n",
        "  if len(token)==1:\n",
        "    one_chars.append(token)\n",
        "  elif len(token)==3 and token[0:2]==\"##\":\n",
        "    hashed_one_chars.append(token)\n"
      ],
      "execution_count": 7,
      "outputs": []
    },
    {
      "cell_type": "code",
      "metadata": {
        "colab": {
          "base_uri": "https://localhost:8080/"
        },
        "id": "p9f3YvMGTO09",
        "outputId": "5e6b1b58-8955-4935-8f9c-6a7f00958311"
      },
      "source": [
        "print('Number of single character tokens:', len(one_chars), '\\n')\n",
        "for i in range(0, len(one_chars), 50):\n",
        "    \n",
        "      end = min(i + 50, len(one_chars) + 1)\n",
        "    \n",
        "      print(one_chars[i:end])"
      ],
      "execution_count": 10,
      "outputs": [
        {
          "output_type": "stream",
          "name": "stdout",
          "text": [
            "Number of single character tokens: 997 \n",
            "\n",
            "['!', '\"', '#', '$', '%', '&', \"'\", '(', ')', '*', '+', ',', '-', '.', '/', '0', '1', '2', '3', '4', '5', '6', '7', '8', '9', ':', ';', '<', '=', '>', '?', '@', '[', '\\\\', ']', '^', '_', '`', 'a', 'b', 'c', 'd', 'e', 'f', 'g', 'h', 'i', 'j', 'k', 'l']\n",
            "['m', 'n', 'o', 'p', 'q', 'r', 's', 't', 'u', 'v', 'w', 'x', 'y', 'z', '{', '|', '}', '~', '¡', '¢', '£', '¤', '¥', '¦', '§', '¨', '©', 'ª', '«', '¬', '®', '°', '±', '²', '³', '´', 'µ', '¶', '·', '¹', 'º', '»', '¼', '½', '¾', '¿', '×', 'ß', 'æ', 'ð']\n",
            "['÷', 'ø', 'þ', 'đ', 'ħ', 'ı', 'ł', 'ŋ', 'œ', 'ƒ', 'ɐ', 'ɑ', 'ɒ', 'ɔ', 'ɕ', 'ə', 'ɛ', 'ɡ', 'ɣ', 'ɨ', 'ɪ', 'ɫ', 'ɬ', 'ɯ', 'ɲ', 'ɴ', 'ɹ', 'ɾ', 'ʀ', 'ʁ', 'ʂ', 'ʃ', 'ʉ', 'ʊ', 'ʋ', 'ʌ', 'ʎ', 'ʐ', 'ʑ', 'ʒ', 'ʔ', 'ʰ', 'ʲ', 'ʳ', 'ʷ', 'ʸ', 'ʻ', 'ʼ', 'ʾ', 'ʿ']\n",
            "['ˈ', 'ː', 'ˡ', 'ˢ', 'ˣ', 'ˤ', 'α', 'β', 'γ', 'δ', 'ε', 'ζ', 'η', 'θ', 'ι', 'κ', 'λ', 'μ', 'ν', 'ξ', 'ο', 'π', 'ρ', 'ς', 'σ', 'τ', 'υ', 'φ', 'χ', 'ψ', 'ω', 'а', 'б', 'в', 'г', 'д', 'е', 'ж', 'з', 'и', 'к', 'л', 'м', 'н', 'о', 'п', 'р', 'с', 'т', 'у']\n",
            "['ф', 'х', 'ц', 'ч', 'ш', 'щ', 'ъ', 'ы', 'ь', 'э', 'ю', 'я', 'ђ', 'є', 'і', 'ј', 'љ', 'њ', 'ћ', 'ӏ', 'ա', 'բ', 'գ', 'դ', 'ե', 'թ', 'ի', 'լ', 'կ', 'հ', 'մ', 'յ', 'ն', 'ո', 'պ', 'ս', 'վ', 'տ', 'ր', 'ւ', 'ք', '־', 'א', 'ב', 'ג', 'ד', 'ה', 'ו', 'ז', 'ח']\n",
            "['ט', 'י', 'ך', 'כ', 'ל', 'ם', 'מ', 'ן', 'נ', 'ס', 'ע', 'ף', 'פ', 'ץ', 'צ', 'ק', 'ר', 'ש', 'ת', '،', 'ء', 'ا', 'ب', 'ة', 'ت', 'ث', 'ج', 'ح', 'خ', 'د', 'ذ', 'ر', 'ز', 'س', 'ش', 'ص', 'ض', 'ط', 'ظ', 'ع', 'غ', 'ـ', 'ف', 'ق', 'ك', 'ل', 'م', 'ن', 'ه', 'و']\n",
            "['ى', 'ي', 'ٹ', 'پ', 'چ', 'ک', 'گ', 'ں', 'ھ', 'ہ', 'ی', 'ے', 'अ', 'आ', 'उ', 'ए', 'क', 'ख', 'ग', 'च', 'ज', 'ट', 'ड', 'ण', 'त', 'थ', 'द', 'ध', 'न', 'प', 'ब', 'भ', 'म', 'य', 'र', 'ल', 'व', 'श', 'ष', 'स', 'ह', 'ा', 'ि', 'ी', 'ो', '।', '॥', 'ং', 'অ', 'আ']\n",
            "['ই', 'উ', 'এ', 'ও', 'ক', 'খ', 'গ', 'চ', 'ছ', 'জ', 'ট', 'ড', 'ণ', 'ত', 'থ', 'দ', 'ধ', 'ন', 'প', 'ব', 'ভ', 'ম', 'য', 'র', 'ল', 'শ', 'ষ', 'স', 'হ', 'া', 'ি', 'ী', 'ে', 'க', 'ச', 'ட', 'த', 'ந', 'ன', 'ப', 'ம', 'ய', 'ர', 'ல', 'ள', 'வ', 'ா', 'ி', 'ு', 'ே']\n",
            "['ை', 'ನ', 'ರ', 'ಾ', 'ක', 'ය', 'ර', 'ල', 'ව', 'ා', 'ก', 'ง', 'ต', 'ท', 'น', 'พ', 'ม', 'ย', 'ร', 'ล', 'ว', 'ส', 'อ', 'า', 'เ', '་', '།', 'ག', 'ང', 'ད', 'ན', 'པ', 'བ', 'མ', 'འ', 'ར', 'ལ', 'ས', 'မ', 'ა', 'ბ', 'გ', 'დ', 'ე', 'ვ', 'თ', 'ი', 'კ', 'ლ', 'მ']\n",
            "['ნ', 'ო', 'რ', 'ს', 'ტ', 'უ', 'ᄀ', 'ᄂ', 'ᄃ', 'ᄅ', 'ᄆ', 'ᄇ', 'ᄉ', 'ᄊ', 'ᄋ', 'ᄌ', 'ᄎ', 'ᄏ', 'ᄐ', 'ᄑ', 'ᄒ', 'ᅡ', 'ᅢ', 'ᅥ', 'ᅦ', 'ᅧ', 'ᅩ', 'ᅪ', 'ᅭ', 'ᅮ', 'ᅯ', 'ᅲ', 'ᅳ', 'ᅴ', 'ᅵ', 'ᆨ', 'ᆫ', 'ᆯ', 'ᆷ', 'ᆸ', 'ᆼ', 'ᴬ', 'ᴮ', 'ᴰ', 'ᴵ', 'ᴺ', 'ᵀ', 'ᵃ', 'ᵇ', 'ᵈ']\n",
            "['ᵉ', 'ᵍ', 'ᵏ', 'ᵐ', 'ᵒ', 'ᵖ', 'ᵗ', 'ᵘ', 'ᵢ', 'ᵣ', 'ᵤ', 'ᵥ', 'ᶜ', 'ᶠ', '‐', '‑', '‒', '–', '—', '―', '‖', '‘', '’', '‚', '“', '”', '„', '†', '‡', '•', '…', '‰', '′', '″', '›', '‿', '⁄', '⁰', 'ⁱ', '⁴', '⁵', '⁶', '⁷', '⁸', '⁹', '⁺', '⁻', 'ⁿ', '₀', '₁']\n",
            "['₂', '₃', '₄', '₅', '₆', '₇', '₈', '₉', '₊', '₍', '₎', 'ₐ', 'ₑ', 'ₒ', 'ₓ', 'ₕ', 'ₖ', 'ₗ', 'ₘ', 'ₙ', 'ₚ', 'ₛ', 'ₜ', '₤', '₩', '€', '₱', '₹', 'ℓ', '№', 'ℝ', '™', '⅓', '⅔', '←', '↑', '→', '↓', '↔', '↦', '⇄', '⇌', '⇒', '∂', '∅', '∆', '∇', '∈', '−', '∗']\n",
            "['∘', '√', '∞', '∧', '∨', '∩', '∪', '≈', '≡', '≤', '≥', '⊂', '⊆', '⊕', '⊗', '⋅', '─', '│', '■', '▪', '●', '★', '☆', '☉', '♠', '♣', '♥', '♦', '♭', '♯', '⟨', '⟩', 'ⱼ', '⺩', '⺼', '⽥', '、', '。', '〈', '〉', '《', '》', '「', '」', '『', '』', '〜', 'あ', 'い', 'う']\n",
            "['え', 'お', 'か', 'き', 'く', 'け', 'こ', 'さ', 'し', 'す', 'せ', 'そ', 'た', 'ち', 'っ', 'つ', 'て', 'と', 'な', 'に', 'ぬ', 'ね', 'の', 'は', 'ひ', 'ふ', 'へ', 'ほ', 'ま', 'み', 'む', 'め', 'も', 'や', 'ゆ', 'よ', 'ら', 'り', 'る', 'れ', 'ろ', 'を', 'ん', 'ァ', 'ア', 'ィ', 'イ', 'ウ', 'ェ', 'エ']\n",
            "['オ', 'カ', 'キ', 'ク', 'ケ', 'コ', 'サ', 'シ', 'ス', 'セ', 'タ', 'チ', 'ッ', 'ツ', 'テ', 'ト', 'ナ', 'ニ', 'ノ', 'ハ', 'ヒ', 'フ', 'ヘ', 'ホ', 'マ', 'ミ', 'ム', 'メ', 'モ', 'ャ', 'ュ', 'ョ', 'ラ', 'リ', 'ル', 'レ', 'ロ', 'ワ', 'ン', '・', 'ー', '一', '三', '上', '下', '不', '世', '中', '主', '久']\n",
            "['之', '也', '事', '二', '五', '井', '京', '人', '亻', '仁', '介', '代', '仮', '伊', '会', '佐', '侍', '保', '信', '健', '元', '光', '八', '公', '内', '出', '分', '前', '劉', '力', '加', '勝', '北', '区', '十', '千', '南', '博', '原', '口', '古', '史', '司', '合', '吉', '同', '名', '和', '囗', '四']\n",
            "['国', '國', '土', '地', '坂', '城', '堂', '場', '士', '夏', '外', '大', '天', '太', '夫', '奈', '女', '子', '学', '宀', '宇', '安', '宗', '定', '宣', '宮', '家', '宿', '寺', '將', '小', '尚', '山', '岡', '島', '崎', '川', '州', '巿', '帝', '平', '年', '幸', '广', '弘', '張', '彳', '後', '御', '德']\n",
            "['心', '忄', '志', '忠', '愛', '成', '我', '戦', '戸', '手', '扌', '政', '文', '新', '方', '日', '明', '星', '春', '昭', '智', '曲', '書', '月', '有', '朝', '木', '本', '李', '村', '東', '松', '林', '森', '楊', '樹', '橋', '歌', '止', '正', '武', '比', '氏', '民', '水', '氵', '氷', '永', '江', '沢']\n",
            "['河', '治', '法', '海', '清', '漢', '瀬', '火', '版', '犬', '王', '生', '田', '男', '疒', '発', '白', '的', '皇', '目', '相', '省', '真', '石', '示', '社', '神', '福', '禾', '秀', '秋', '空', '立', '章', '竹', '糹', '美', '義', '耳', '良', '艹', '花', '英', '華', '葉', '藤', '行', '街', '西', '見']\n",
            "['訁', '語', '谷', '貝', '貴', '車', '軍', '辶', '道', '郎', '郡', '部', '都', '里', '野', '金', '鈴', '镇', '長', '門', '間', '阝', '阿', '陳', '陽', '雄', '青', '面', '風', '食', '香', '馬', '高', '龍', '龸', 'ﬁ', 'ﬂ', '！', '（', '）', '，', '－', '．', '／', '：', '？', '～']\n"
          ]
        }
      ]
    },
    {
      "cell_type": "code",
      "metadata": {
        "colab": {
          "base_uri": "https://localhost:8080/"
        },
        "id": "Shkj0S3NUA9G",
        "outputId": "fddb7208-b657-465b-894b-8a17235868ab"
      },
      "source": [
        "print('Number of single character tokens:', len(hashed_one_chars), '\\n')\n",
        "for i in range(0, len(hashed_one_chars), 50):\n",
        "    \n",
        "      end = min(i + 50, len(hashed_one_chars) + 1)\n",
        "    \n",
        "      print(hashed_one_chars[i:end])"
      ],
      "execution_count": 11,
      "outputs": [
        {
          "output_type": "stream",
          "name": "stdout",
          "text": [
            "Number of single character tokens: 997 \n",
            "\n",
            "['##s', '##a', '##e', '##i', '##n', '##o', '##d', '##r', '##y', '##t', '##l', '##m', '##u', '##h', '##k', '##c', '##g', '##p', '##2', '##z', '##1', '##b', '##3', '##f', '##4', '##6', '##7', '##x', '##v', '##8', '##5', '##9', '##0', '##w', '##j', '##q', '##°', '##₂', '##а', '##и', '##²', '##₃', '##ı', '##₁', '##⁺', '##½', '##о', '##ه', '##ي', '##α']\n",
            "['##е', '##د', '##ن', '##ν', '##ø', '##р', '##₄', '##₀', '##ر', '##я', '##³', '##ι', '##ł', '##н', '##ᵢ', '##ₙ', '##ß', '##ة', '##ς', '##م', '##−', '##т', '##ː', '##ل', '##ь', '##к', '##♭', '##η', '##ی', '##в', '##ا', '##×', '##¹', '##ы', '##ה', '##ɛ', '##л', '##!', '##\"', '###', '##$', '##%', '##&', \"##'\", '##(', '##)', '##*', '##+', '##,', '##-']\n",
            "['##.', '##/', '##:', '##;', '##<', '##=', '##>', '##?', '##@', '##[', '##\\\\', '##]', '##^', '##_', '##`', '##{', '##|', '##}', '##~', '##¡', '##¢', '##£', '##¤', '##¥', '##¦', '##§', '##¨', '##©', '##ª', '##«', '##¬', '##®', '##±', '##´', '##µ', '##¶', '##·', '##º', '##»', '##¼', '##¾', '##¿', '##æ', '##ð', '##÷', '##þ', '##đ', '##ħ', '##ŋ', '##œ']\n",
            "['##ƒ', '##ɐ', '##ɑ', '##ɒ', '##ɔ', '##ɕ', '##ə', '##ɡ', '##ɣ', '##ɨ', '##ɪ', '##ɫ', '##ɬ', '##ɯ', '##ɲ', '##ɴ', '##ɹ', '##ɾ', '##ʀ', '##ʁ', '##ʂ', '##ʃ', '##ʉ', '##ʊ', '##ʋ', '##ʌ', '##ʎ', '##ʐ', '##ʑ', '##ʒ', '##ʔ', '##ʰ', '##ʲ', '##ʳ', '##ʷ', '##ʸ', '##ʻ', '##ʼ', '##ʾ', '##ʿ', '##ˈ', '##ˡ', '##ˢ', '##ˣ', '##ˤ', '##β', '##γ', '##δ', '##ε', '##ζ']\n",
            "['##θ', '##κ', '##λ', '##μ', '##ξ', '##ο', '##π', '##ρ', '##σ', '##τ', '##υ', '##φ', '##χ', '##ψ', '##ω', '##б', '##г', '##д', '##ж', '##з', '##м', '##п', '##с', '##у', '##ф', '##х', '##ц', '##ч', '##ш', '##щ', '##ъ', '##э', '##ю', '##ђ', '##є', '##і', '##ј', '##љ', '##њ', '##ћ', '##ӏ', '##ա', '##բ', '##գ', '##դ', '##ե', '##թ', '##ի', '##լ', '##կ']\n",
            "['##հ', '##մ', '##յ', '##ն', '##ո', '##պ', '##ս', '##վ', '##տ', '##ր', '##ւ', '##ք', '##־', '##א', '##ב', '##ג', '##ד', '##ו', '##ז', '##ח', '##ט', '##י', '##ך', '##כ', '##ל', '##ם', '##מ', '##ן', '##נ', '##ס', '##ע', '##ף', '##פ', '##ץ', '##צ', '##ק', '##ר', '##ש', '##ת', '##،', '##ء', '##ب', '##ت', '##ث', '##ج', '##ح', '##خ', '##ذ', '##ز', '##س']\n",
            "['##ش', '##ص', '##ض', '##ط', '##ظ', '##ع', '##غ', '##ـ', '##ف', '##ق', '##ك', '##و', '##ى', '##ٹ', '##پ', '##چ', '##ک', '##گ', '##ں', '##ھ', '##ہ', '##ے', '##अ', '##आ', '##उ', '##ए', '##क', '##ख', '##ग', '##च', '##ज', '##ट', '##ड', '##ण', '##त', '##थ', '##द', '##ध', '##न', '##प', '##ब', '##भ', '##म', '##य', '##र', '##ल', '##व', '##श', '##ष', '##स']\n",
            "['##ह', '##ा', '##ि', '##ी', '##ो', '##।', '##॥', '##ং', '##অ', '##আ', '##ই', '##উ', '##এ', '##ও', '##ক', '##খ', '##গ', '##চ', '##ছ', '##জ', '##ট', '##ড', '##ণ', '##ত', '##থ', '##দ', '##ধ', '##ন', '##প', '##ব', '##ভ', '##ম', '##য', '##র', '##ল', '##শ', '##ষ', '##স', '##হ', '##া', '##ি', '##ী', '##ে', '##க', '##ச', '##ட', '##த', '##ந', '##ன', '##ப']\n",
            "['##ம', '##ய', '##ர', '##ல', '##ள', '##வ', '##ா', '##ி', '##ு', '##ே', '##ை', '##ನ', '##ರ', '##ಾ', '##ක', '##ය', '##ර', '##ල', '##ව', '##ා', '##ก', '##ง', '##ต', '##ท', '##น', '##พ', '##ม', '##ย', '##ร', '##ล', '##ว', '##ส', '##อ', '##า', '##เ', '##་', '##།', '##ག', '##ང', '##ད', '##ན', '##པ', '##བ', '##མ', '##འ', '##ར', '##ལ', '##ས', '##မ', '##ა']\n",
            "['##ბ', '##გ', '##დ', '##ე', '##ვ', '##თ', '##ი', '##კ', '##ლ', '##მ', '##ნ', '##ო', '##რ', '##ს', '##ტ', '##უ', '##ᄀ', '##ᄂ', '##ᄃ', '##ᄅ', '##ᄆ', '##ᄇ', '##ᄉ', '##ᄊ', '##ᄋ', '##ᄌ', '##ᄎ', '##ᄏ', '##ᄐ', '##ᄑ', '##ᄒ', '##ᅡ', '##ᅢ', '##ᅥ', '##ᅦ', '##ᅧ', '##ᅩ', '##ᅪ', '##ᅭ', '##ᅮ', '##ᅯ', '##ᅲ', '##ᅳ', '##ᅴ', '##ᅵ', '##ᆨ', '##ᆫ', '##ᆯ', '##ᆷ', '##ᆸ']\n",
            "['##ᆼ', '##ᴬ', '##ᴮ', '##ᴰ', '##ᴵ', '##ᴺ', '##ᵀ', '##ᵃ', '##ᵇ', '##ᵈ', '##ᵉ', '##ᵍ', '##ᵏ', '##ᵐ', '##ᵒ', '##ᵖ', '##ᵗ', '##ᵘ', '##ᵣ', '##ᵤ', '##ᵥ', '##ᶜ', '##ᶠ', '##‐', '##‑', '##‒', '##–', '##—', '##―', '##‖', '##‘', '##’', '##‚', '##“', '##”', '##„', '##†', '##‡', '##•', '##…', '##‰', '##′', '##″', '##›', '##‿', '##⁄', '##⁰', '##ⁱ', '##⁴', '##⁵']\n",
            "['##⁶', '##⁷', '##⁸', '##⁹', '##⁻', '##ⁿ', '##₅', '##₆', '##₇', '##₈', '##₉', '##₊', '##₍', '##₎', '##ₐ', '##ₑ', '##ₒ', '##ₓ', '##ₕ', '##ₖ', '##ₗ', '##ₘ', '##ₚ', '##ₛ', '##ₜ', '##₤', '##₩', '##€', '##₱', '##₹', '##ℓ', '##№', '##ℝ', '##™', '##⅓', '##⅔', '##←', '##↑', '##→', '##↓', '##↔', '##↦', '##⇄', '##⇌', '##⇒', '##∂', '##∅', '##∆', '##∇', '##∈']\n",
            "['##∗', '##∘', '##√', '##∞', '##∧', '##∨', '##∩', '##∪', '##≈', '##≡', '##≤', '##≥', '##⊂', '##⊆', '##⊕', '##⊗', '##⋅', '##─', '##│', '##■', '##▪', '##●', '##★', '##☆', '##☉', '##♠', '##♣', '##♥', '##♦', '##♯', '##⟨', '##⟩', '##ⱼ', '##⺩', '##⺼', '##⽥', '##、', '##。', '##〈', '##〉', '##《', '##》', '##「', '##」', '##『', '##』', '##〜', '##あ', '##い', '##う']\n",
            "['##え', '##お', '##か', '##き', '##く', '##け', '##こ', '##さ', '##し', '##す', '##せ', '##そ', '##た', '##ち', '##っ', '##つ', '##て', '##と', '##な', '##に', '##ぬ', '##ね', '##の', '##は', '##ひ', '##ふ', '##へ', '##ほ', '##ま', '##み', '##む', '##め', '##も', '##や', '##ゆ', '##よ', '##ら', '##り', '##る', '##れ', '##ろ', '##を', '##ん', '##ァ', '##ア', '##ィ', '##イ', '##ウ', '##ェ', '##エ']\n",
            "['##オ', '##カ', '##キ', '##ク', '##ケ', '##コ', '##サ', '##シ', '##ス', '##セ', '##タ', '##チ', '##ッ', '##ツ', '##テ', '##ト', '##ナ', '##ニ', '##ノ', '##ハ', '##ヒ', '##フ', '##ヘ', '##ホ', '##マ', '##ミ', '##ム', '##メ', '##モ', '##ャ', '##ュ', '##ョ', '##ラ', '##リ', '##ル', '##レ', '##ロ', '##ワ', '##ン', '##・', '##ー', '##一', '##三', '##上', '##下', '##不', '##世', '##中', '##主', '##久']\n",
            "['##之', '##也', '##事', '##二', '##五', '##井', '##京', '##人', '##亻', '##仁', '##介', '##代', '##仮', '##伊', '##会', '##佐', '##侍', '##保', '##信', '##健', '##元', '##光', '##八', '##公', '##内', '##出', '##分', '##前', '##劉', '##力', '##加', '##勝', '##北', '##区', '##十', '##千', '##南', '##博', '##原', '##口', '##古', '##史', '##司', '##合', '##吉', '##同', '##名', '##和', '##囗', '##四']\n",
            "['##国', '##國', '##土', '##地', '##坂', '##城', '##堂', '##場', '##士', '##夏', '##外', '##大', '##天', '##太', '##夫', '##奈', '##女', '##子', '##学', '##宀', '##宇', '##安', '##宗', '##定', '##宣', '##宮', '##家', '##宿', '##寺', '##將', '##小', '##尚', '##山', '##岡', '##島', '##崎', '##川', '##州', '##巿', '##帝', '##平', '##年', '##幸', '##广', '##弘', '##張', '##彳', '##後', '##御', '##德']\n",
            "['##心', '##忄', '##志', '##忠', '##愛', '##成', '##我', '##戦', '##戸', '##手', '##扌', '##政', '##文', '##新', '##方', '##日', '##明', '##星', '##春', '##昭', '##智', '##曲', '##書', '##月', '##有', '##朝', '##木', '##本', '##李', '##村', '##東', '##松', '##林', '##森', '##楊', '##樹', '##橋', '##歌', '##止', '##正', '##武', '##比', '##氏', '##民', '##水', '##氵', '##氷', '##永', '##江', '##沢']\n",
            "['##河', '##治', '##法', '##海', '##清', '##漢', '##瀬', '##火', '##版', '##犬', '##王', '##生', '##田', '##男', '##疒', '##発', '##白', '##的', '##皇', '##目', '##相', '##省', '##真', '##石', '##示', '##社', '##神', '##福', '##禾', '##秀', '##秋', '##空', '##立', '##章', '##竹', '##糹', '##美', '##義', '##耳', '##良', '##艹', '##花', '##英', '##華', '##葉', '##藤', '##行', '##街', '##西', '##見']\n",
            "['##訁', '##語', '##谷', '##貝', '##貴', '##車', '##軍', '##辶', '##道', '##郎', '##郡', '##部', '##都', '##里', '##野', '##金', '##鈴', '##镇', '##長', '##門', '##間', '##阝', '##阿', '##陳', '##陽', '##雄', '##青', '##面', '##風', '##食', '##香', '##馬', '##高', '##龍', '##龸', '##ﬁ', '##ﬂ', '##！', '##（', '##）', '##，', '##－', '##．', '##／', '##：', '##？', '##～']\n"
          ]
        }
      ]
    },
    {
      "cell_type": "markdown",
      "metadata": {
        "id": "0-iLybyZVDOj"
      },
      "source": [
        "Replacing the hashes with comparison of the  hashed tokens with original tokens."
      ]
    },
    {
      "cell_type": "code",
      "metadata": {
        "id": "sipcQJ37U7oY"
      },
      "source": [
        "unhashed_tokens=[token.replace(\"##\",\"\") for token in hashed_one_chars]"
      ],
      "execution_count": 12,
      "outputs": []
    },
    {
      "cell_type": "code",
      "metadata": {
        "colab": {
          "base_uri": "https://localhost:8080/"
        },
        "id": "29aDTefBWWR9",
        "outputId": "c662cbcc-7f4b-48e9-f4fe-b6c409593d24"
      },
      "source": [
        "print('Number of single character tokens:', len(unhashed_tokens), '\\n')\n",
        "for i in range(0, len(unhashed_tokens), 50):\n",
        "    \n",
        "      end = min(i + 50, len(unhashed_tokens) + 1)\n",
        "    \n",
        "      print(unhashed_tokens[i:end])"
      ],
      "execution_count": 13,
      "outputs": [
        {
          "output_type": "stream",
          "name": "stdout",
          "text": [
            "Number of single character tokens: 997 \n",
            "\n",
            "['s', 'a', 'e', 'i', 'n', 'o', 'd', 'r', 'y', 't', 'l', 'm', 'u', 'h', 'k', 'c', 'g', 'p', '2', 'z', '1', 'b', '3', 'f', '4', '6', '7', 'x', 'v', '8', '5', '9', '0', 'w', 'j', 'q', '°', '₂', 'а', 'и', '²', '₃', 'ı', '₁', '⁺', '½', 'о', 'ه', 'ي', 'α']\n",
            "['е', 'د', 'ن', 'ν', 'ø', 'р', '₄', '₀', 'ر', 'я', '³', 'ι', 'ł', 'н', 'ᵢ', 'ₙ', 'ß', 'ة', 'ς', 'م', '−', 'т', 'ː', 'ل', 'ь', 'к', '♭', 'η', 'ی', 'в', 'ا', '×', '¹', 'ы', 'ה', 'ɛ', 'л', '!', '\"', '#', '$', '%', '&', \"'\", '(', ')', '*', '+', ',', '-']\n",
            "['.', '/', ':', ';', '<', '=', '>', '?', '@', '[', '\\\\', ']', '^', '_', '`', '{', '|', '}', '~', '¡', '¢', '£', '¤', '¥', '¦', '§', '¨', '©', 'ª', '«', '¬', '®', '±', '´', 'µ', '¶', '·', 'º', '»', '¼', '¾', '¿', 'æ', 'ð', '÷', 'þ', 'đ', 'ħ', 'ŋ', 'œ']\n",
            "['ƒ', 'ɐ', 'ɑ', 'ɒ', 'ɔ', 'ɕ', 'ə', 'ɡ', 'ɣ', 'ɨ', 'ɪ', 'ɫ', 'ɬ', 'ɯ', 'ɲ', 'ɴ', 'ɹ', 'ɾ', 'ʀ', 'ʁ', 'ʂ', 'ʃ', 'ʉ', 'ʊ', 'ʋ', 'ʌ', 'ʎ', 'ʐ', 'ʑ', 'ʒ', 'ʔ', 'ʰ', 'ʲ', 'ʳ', 'ʷ', 'ʸ', 'ʻ', 'ʼ', 'ʾ', 'ʿ', 'ˈ', 'ˡ', 'ˢ', 'ˣ', 'ˤ', 'β', 'γ', 'δ', 'ε', 'ζ']\n",
            "['θ', 'κ', 'λ', 'μ', 'ξ', 'ο', 'π', 'ρ', 'σ', 'τ', 'υ', 'φ', 'χ', 'ψ', 'ω', 'б', 'г', 'д', 'ж', 'з', 'м', 'п', 'с', 'у', 'ф', 'х', 'ц', 'ч', 'ш', 'щ', 'ъ', 'э', 'ю', 'ђ', 'є', 'і', 'ј', 'љ', 'њ', 'ћ', 'ӏ', 'ա', 'բ', 'գ', 'դ', 'ե', 'թ', 'ի', 'լ', 'կ']\n",
            "['հ', 'մ', 'յ', 'ն', 'ո', 'պ', 'ս', 'վ', 'տ', 'ր', 'ւ', 'ք', '־', 'א', 'ב', 'ג', 'ד', 'ו', 'ז', 'ח', 'ט', 'י', 'ך', 'כ', 'ל', 'ם', 'מ', 'ן', 'נ', 'ס', 'ע', 'ף', 'פ', 'ץ', 'צ', 'ק', 'ר', 'ש', 'ת', '،', 'ء', 'ب', 'ت', 'ث', 'ج', 'ح', 'خ', 'ذ', 'ز', 'س']\n",
            "['ش', 'ص', 'ض', 'ط', 'ظ', 'ع', 'غ', 'ـ', 'ف', 'ق', 'ك', 'و', 'ى', 'ٹ', 'پ', 'چ', 'ک', 'گ', 'ں', 'ھ', 'ہ', 'ے', 'अ', 'आ', 'उ', 'ए', 'क', 'ख', 'ग', 'च', 'ज', 'ट', 'ड', 'ण', 'त', 'थ', 'द', 'ध', 'न', 'प', 'ब', 'भ', 'म', 'य', 'र', 'ल', 'व', 'श', 'ष', 'स']\n",
            "['ह', 'ा', 'ि', 'ी', 'ो', '।', '॥', 'ং', 'অ', 'আ', 'ই', 'উ', 'এ', 'ও', 'ক', 'খ', 'গ', 'চ', 'ছ', 'জ', 'ট', 'ড', 'ণ', 'ত', 'থ', 'দ', 'ধ', 'ন', 'প', 'ব', 'ভ', 'ম', 'য', 'র', 'ল', 'শ', 'ষ', 'স', 'হ', 'া', 'ি', 'ী', 'ে', 'க', 'ச', 'ட', 'த', 'ந', 'ன', 'ப']\n",
            "['ம', 'ய', 'ர', 'ல', 'ள', 'வ', 'ா', 'ி', 'ு', 'ே', 'ை', 'ನ', 'ರ', 'ಾ', 'ක', 'ය', 'ර', 'ල', 'ව', 'ා', 'ก', 'ง', 'ต', 'ท', 'น', 'พ', 'ม', 'ย', 'ร', 'ล', 'ว', 'ส', 'อ', 'า', 'เ', '་', '།', 'ག', 'ང', 'ད', 'ན', 'པ', 'བ', 'མ', 'འ', 'ར', 'ལ', 'ས', 'မ', 'ა']\n",
            "['ბ', 'გ', 'დ', 'ე', 'ვ', 'თ', 'ი', 'კ', 'ლ', 'მ', 'ნ', 'ო', 'რ', 'ს', 'ტ', 'უ', 'ᄀ', 'ᄂ', 'ᄃ', 'ᄅ', 'ᄆ', 'ᄇ', 'ᄉ', 'ᄊ', 'ᄋ', 'ᄌ', 'ᄎ', 'ᄏ', 'ᄐ', 'ᄑ', 'ᄒ', 'ᅡ', 'ᅢ', 'ᅥ', 'ᅦ', 'ᅧ', 'ᅩ', 'ᅪ', 'ᅭ', 'ᅮ', 'ᅯ', 'ᅲ', 'ᅳ', 'ᅴ', 'ᅵ', 'ᆨ', 'ᆫ', 'ᆯ', 'ᆷ', 'ᆸ']\n",
            "['ᆼ', 'ᴬ', 'ᴮ', 'ᴰ', 'ᴵ', 'ᴺ', 'ᵀ', 'ᵃ', 'ᵇ', 'ᵈ', 'ᵉ', 'ᵍ', 'ᵏ', 'ᵐ', 'ᵒ', 'ᵖ', 'ᵗ', 'ᵘ', 'ᵣ', 'ᵤ', 'ᵥ', 'ᶜ', 'ᶠ', '‐', '‑', '‒', '–', '—', '―', '‖', '‘', '’', '‚', '“', '”', '„', '†', '‡', '•', '…', '‰', '′', '″', '›', '‿', '⁄', '⁰', 'ⁱ', '⁴', '⁵']\n",
            "['⁶', '⁷', '⁸', '⁹', '⁻', 'ⁿ', '₅', '₆', '₇', '₈', '₉', '₊', '₍', '₎', 'ₐ', 'ₑ', 'ₒ', 'ₓ', 'ₕ', 'ₖ', 'ₗ', 'ₘ', 'ₚ', 'ₛ', 'ₜ', '₤', '₩', '€', '₱', '₹', 'ℓ', '№', 'ℝ', '™', '⅓', '⅔', '←', '↑', '→', '↓', '↔', '↦', '⇄', '⇌', '⇒', '∂', '∅', '∆', '∇', '∈']\n",
            "['∗', '∘', '√', '∞', '∧', '∨', '∩', '∪', '≈', '≡', '≤', '≥', '⊂', '⊆', '⊕', '⊗', '⋅', '─', '│', '■', '▪', '●', '★', '☆', '☉', '♠', '♣', '♥', '♦', '♯', '⟨', '⟩', 'ⱼ', '⺩', '⺼', '⽥', '、', '。', '〈', '〉', '《', '》', '「', '」', '『', '』', '〜', 'あ', 'い', 'う']\n",
            "['え', 'お', 'か', 'き', 'く', 'け', 'こ', 'さ', 'し', 'す', 'せ', 'そ', 'た', 'ち', 'っ', 'つ', 'て', 'と', 'な', 'に', 'ぬ', 'ね', 'の', 'は', 'ひ', 'ふ', 'へ', 'ほ', 'ま', 'み', 'む', 'め', 'も', 'や', 'ゆ', 'よ', 'ら', 'り', 'る', 'れ', 'ろ', 'を', 'ん', 'ァ', 'ア', 'ィ', 'イ', 'ウ', 'ェ', 'エ']\n",
            "['オ', 'カ', 'キ', 'ク', 'ケ', 'コ', 'サ', 'シ', 'ス', 'セ', 'タ', 'チ', 'ッ', 'ツ', 'テ', 'ト', 'ナ', 'ニ', 'ノ', 'ハ', 'ヒ', 'フ', 'ヘ', 'ホ', 'マ', 'ミ', 'ム', 'メ', 'モ', 'ャ', 'ュ', 'ョ', 'ラ', 'リ', 'ル', 'レ', 'ロ', 'ワ', 'ン', '・', 'ー', '一', '三', '上', '下', '不', '世', '中', '主', '久']\n",
            "['之', '也', '事', '二', '五', '井', '京', '人', '亻', '仁', '介', '代', '仮', '伊', '会', '佐', '侍', '保', '信', '健', '元', '光', '八', '公', '内', '出', '分', '前', '劉', '力', '加', '勝', '北', '区', '十', '千', '南', '博', '原', '口', '古', '史', '司', '合', '吉', '同', '名', '和', '囗', '四']\n",
            "['国', '國', '土', '地', '坂', '城', '堂', '場', '士', '夏', '外', '大', '天', '太', '夫', '奈', '女', '子', '学', '宀', '宇', '安', '宗', '定', '宣', '宮', '家', '宿', '寺', '將', '小', '尚', '山', '岡', '島', '崎', '川', '州', '巿', '帝', '平', '年', '幸', '广', '弘', '張', '彳', '後', '御', '德']\n",
            "['心', '忄', '志', '忠', '愛', '成', '我', '戦', '戸', '手', '扌', '政', '文', '新', '方', '日', '明', '星', '春', '昭', '智', '曲', '書', '月', '有', '朝', '木', '本', '李', '村', '東', '松', '林', '森', '楊', '樹', '橋', '歌', '止', '正', '武', '比', '氏', '民', '水', '氵', '氷', '永', '江', '沢']\n",
            "['河', '治', '法', '海', '清', '漢', '瀬', '火', '版', '犬', '王', '生', '田', '男', '疒', '発', '白', '的', '皇', '目', '相', '省', '真', '石', '示', '社', '神', '福', '禾', '秀', '秋', '空', '立', '章', '竹', '糹', '美', '義', '耳', '良', '艹', '花', '英', '華', '葉', '藤', '行', '街', '西', '見']\n",
            "['訁', '語', '谷', '貝', '貴', '車', '軍', '辶', '道', '郎', '郡', '部', '都', '里', '野', '金', '鈴', '镇', '長', '門', '間', '阝', '阿', '陳', '陽', '雄', '青', '面', '風', '食', '香', '馬', '高', '龍', '龸', 'ﬁ', 'ﬂ', '！', '（', '）', '，', '－', '．', '／', '：', '？', '～']\n"
          ]
        }
      ]
    },
    {
      "cell_type": "markdown",
      "metadata": {
        "id": "Xu9snXkiWoJF"
      },
      "source": [
        "Now we will compare the one charecter structures are identical to the hashed one charecter tokens."
      ]
    },
    {
      "cell_type": "code",
      "metadata": {
        "colab": {
          "base_uri": "https://localhost:8080/"
        },
        "id": "YOya1S1XWiUa",
        "outputId": "11be4dae-52c6-4ad2-fbf6-65f19c45ee7a"
      },
      "source": [
        "print(\"Comparison for Equality:-\",set(one_chars)==set(unhashed_tokens))"
      ],
      "execution_count": 18,
      "outputs": [
        {
          "output_type": "stream",
          "name": "stdout",
          "text": [
            "Comparison for Equality:- True\n"
          ]
        }
      ]
    },
    {
      "cell_type": "markdown",
      "metadata": {
        "id": "TsW1lrbgZqPk"
      },
      "source": [
        "**Taking all the hashed vocabulary together and further exploring them together.** "
      ]
    },
    {
      "cell_type": "code",
      "metadata": {
        "id": "viotQTQGW5TQ"
      },
      "source": [
        "hashed=[]\n",
        "for token in tokenizer.vocab.keys():\n",
        "  if token[0:2]==\"##\":\n",
        "    hashed.append(token)"
      ],
      "execution_count": 19,
      "outputs": []
    },
    {
      "cell_type": "code",
      "metadata": {
        "colab": {
          "base_uri": "https://localhost:8080/"
        },
        "id": "cKdzLBIbaQL7",
        "outputId": "1199d768-13ff-4496-c193-3e1df42a8a62"
      },
      "source": [
        "print(\"The total number of hashed elements are:-\",len(hashed))"
      ],
      "execution_count": 23,
      "outputs": [
        {
          "output_type": "stream",
          "name": "stdout",
          "text": [
            "The total number of hashed elements are:- 5828\n"
          ]
        }
      ]
    },
    {
      "cell_type": "markdown",
      "metadata": {
        "id": "xcTjCr3Yjbfa"
      },
      "source": [
        "**Getting different length tokens in the vocabulary** "
      ]
    },
    {
      "cell_type": "code",
      "metadata": {
        "id": "r--lFt9taSb0"
      },
      "source": [
        "len_hashed=[len(token)for token in hashed]\n",
        "len_hashed"
      ],
      "execution_count": null,
      "outputs": []
    },
    {
      "cell_type": "code",
      "metadata": {
        "colab": {
          "base_uri": "https://localhost:8080/"
        },
        "id": "4mNmj9C-avut",
        "outputId": "16b28bce-a89f-4fd7-ec9e-d6f728215c4f"
      },
      "source": [
        "print(\"Distinct length of Words in the Vocabulary:\",set(len_hashed))"
      ],
      "execution_count": 34,
      "outputs": [
        {
          "output_type": "stream",
          "name": "stdout",
          "text": [
            "Distinct length of Words in the Vocabulary: {3, 4, 5, 6, 7, 8, 9, 10, 11, 12}\n"
          ]
        }
      ]
    },
    {
      "cell_type": "code",
      "metadata": {
        "colab": {
          "base_uri": "https://localhost:8080/"
        },
        "id": "KtLXJiz6bPV3",
        "outputId": "b73af512-f575-4278-a229-433e3e0835a1"
      },
      "source": [
        "length=list(set(len_hashed))\n",
        "length"
      ],
      "execution_count": 50,
      "outputs": [
        {
          "output_type": "execute_result",
          "data": {
            "text/plain": [
              "[3, 4, 5, 6, 7, 8, 9, 10, 11, 12]"
            ]
          },
          "metadata": {},
          "execution_count": 50
        }
      ]
    },
    {
      "cell_type": "markdown",
      "metadata": {
        "id": "L6n67EDajuAU"
      },
      "source": [
        "**Getting the frequencies of different hashed Tokens**"
      ]
    },
    {
      "cell_type": "code",
      "metadata": {
        "id": "1c54QPvbb5s3"
      },
      "source": [
        "hashed_dict={}"
      ],
      "execution_count": 51,
      "outputs": []
    },
    {
      "cell_type": "code",
      "metadata": {
        "colab": {
          "base_uri": "https://localhost:8080/"
        },
        "id": "EgXv8mvAdBgU",
        "outputId": "8d534010-f252-4858-8eee-e12ff659cc73"
      },
      "source": [
        "for i in length:\n",
        "  hashed_dict[i]=0\n",
        "hashed_dict"
      ],
      "execution_count": 52,
      "outputs": [
        {
          "output_type": "execute_result",
          "data": {
            "text/plain": [
              "{3: 0, 4: 0, 5: 0, 6: 0, 7: 0, 8: 0, 9: 0, 10: 0, 11: 0, 12: 0}"
            ]
          },
          "metadata": {},
          "execution_count": 52
        }
      ]
    },
    {
      "cell_type": "code",
      "metadata": {
        "id": "gFCbjuoqdK1F"
      },
      "source": [
        "for token in hashed:\n",
        "  m=len(token)\n",
        "  #print(m)\n",
        "  hashed_dict[m]+=1"
      ],
      "execution_count": 56,
      "outputs": []
    },
    {
      "cell_type": "code",
      "metadata": {
        "colab": {
          "base_uri": "https://localhost:8080/"
        },
        "id": "eGi2kH07dzlt",
        "outputId": "100ecc21-e93b-4826-d041-fb9860aac5dc"
      },
      "source": [
        "hashed_dict"
      ],
      "execution_count": 57,
      "outputs": [
        {
          "output_type": "execute_result",
          "data": {
            "text/plain": [
              "{3: 1994,\n",
              " 4: 1042,\n",
              " 5: 2988,\n",
              " 6: 3154,\n",
              " 7: 1390,\n",
              " 8: 652,\n",
              " 9: 304,\n",
              " 10: 104,\n",
              " 11: 22,\n",
              " 12: 6}"
            ]
          },
          "metadata": {},
          "execution_count": 57
        }
      ]
    },
    {
      "cell_type": "markdown",
      "metadata": {
        "id": "WfYHfrwQmNiX"
      },
      "source": [
        "### **Visualisation Of The Hashed Tokens**"
      ]
    },
    {
      "cell_type": "code",
      "metadata": {
        "colab": {
          "base_uri": "https://localhost:8080/",
          "height": 638
        },
        "id": "22iHSdMOkRRe",
        "outputId": "a0742aad-a02e-4127-ccf1-c7116343a787"
      },
      "source": [
        "plt.figure(figsize=(12,10))\n",
        "plt.bar(range(len(hashed_dict)), list(hashed_dict.values()), align='center')\n",
        "plt.title(\"Frequencies Of different Hashed Word tokens\")\n",
        "plt.xticks(range(len(hashed_dict)), list(hashed_dict.keys()))\n",
        "plt.ylabel(\"Frequencies\")\n",
        "plt.xlabel(\"Token Length\")"
      ],
      "execution_count": 70,
      "outputs": [
        {
          "output_type": "execute_result",
          "data": {
            "text/plain": [
              "Text(0.5, 0, 'Token Length')"
            ]
          },
          "metadata": {},
          "execution_count": 70
        },
        {
          "output_type": "display_data",
          "data": {
            "image/png": "[encoded data removed]",
            "text/plain": [
              "<Figure size 864x720 with 1 Axes>"
            ]
          },
          "metadata": {
            "needs_background": "light"
          }
        }
      ]
    },
    {
      "cell_type": "code",
      "metadata": {
        "id": "lQSkDGNHkXp8"
      },
      "source": [
        "import seaborn as sns "
      ],
      "execution_count": 71,
      "outputs": []
    },
    {
      "cell_type": "markdown",
      "metadata": {
        "id": "pPWxPqlOy8HB"
      },
      "source": [
        "### **Start Words and Sub Words**"
      ]
    },
    {
      "cell_type": "code",
      "metadata": {
        "colab": {
          "base_uri": "https://localhost:8080/"
        },
        "id": "DjiZNXf_oy6q",
        "outputId": "30458b5d-3b27-4fa9-a76f-febf674b89cd"
      },
      "source": [
        "hash_len=len(hashed)\n",
        "full=len(tokenizer.vocab.keys())\n",
        "print('Number of subwords:',hash_len)\n",
        "print(\"Number of words in Vocabulary:\",full)\n",
        "print(\"The Percentage of hashed tokens :\",hash_len/full*100.00)"
      ],
      "execution_count": 79,
      "outputs": [
        {
          "output_type": "stream",
          "name": "stdout",
          "text": [
            "Number of subwords: 5828\n",
            "Number of words in Vocabulary: 30522\n",
            "The Percentage of hashed tokens : 19.09442369438438\n"
          ]
        }
      ]
    },
    {
      "cell_type": "code",
      "metadata": {
        "id": "WXAPJsxNwnjH"
      },
      "source": [
        "unhashed_tokens2=[tokens.replace(\"##\",\"\")for tokens in hashed]\n",
        "unhashed_tokens2"
      ],
      "execution_count": null,
      "outputs": []
    },
    {
      "cell_type": "code",
      "metadata": {
        "id": "jd9HxVtno-QV"
      },
      "source": [
        "Not_present=[]\n",
        "for token in unhashed_tokens2:\n",
        "  if not token in one_chars:\n",
        "    #print(\"Did not find a token for\",token)\n",
        "    Not_present.append(token)"
      ],
      "execution_count": 90,
      "outputs": []
    },
    {
      "cell_type": "code",
      "metadata": {
        "id": "VHvU48Y8wcHY"
      },
      "source": [
        "with open(\"NotPresent.txt\",\"w\") as f1:\n",
        "  f1.write(\"These are the list of solely subwords:\"+\"\\n\")\n",
        "  for token in unhashed_tokens2:\n",
        "    if not token in one_chars:\n",
        "      f1.write(token+\"\\n\")"
      ],
      "execution_count": 94,
      "outputs": []
    },
    {
      "cell_type": "code",
      "metadata": {
        "id": "gOigV_DyxMjS"
      },
      "source": [
        ""
      ],
      "execution_count": null,
      "outputs": []
    }
  ]
}